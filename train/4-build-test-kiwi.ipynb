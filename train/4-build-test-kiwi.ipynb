{
 "cells": [
  {
   "cell_type": "code",
   "execution_count": 2,
   "metadata": {},
   "outputs": [],
   "source": [
    "import numpy as numpy\n",
    "import pandas as pd\n",
    "import matplotlib.pyplot as plt"
   ]
  },
  {
   "cell_type": "code",
   "execution_count": 3,
   "metadata": {},
   "outputs": [
    {
     "data": {
      "text/html": [
       "<div>\n",
       "<style scoped>\n",
       "    .dataframe tbody tr th:only-of-type {\n",
       "        vertical-align: middle;\n",
       "    }\n",
       "\n",
       "    .dataframe tbody tr th {\n",
       "        vertical-align: top;\n",
       "    }\n",
       "\n",
       "    .dataframe thead th {\n",
       "        text-align: right;\n",
       "    }\n",
       "</style>\n",
       "<table border=\"1\" class=\"dataframe\">\n",
       "  <thead>\n",
       "    <tr style=\"text-align: right;\">\n",
       "      <th></th>\n",
       "      <th>0</th>\n",
       "      <th>message</th>\n",
       "      <th>type</th>\n",
       "    </tr>\n",
       "  </thead>\n",
       "  <tbody>\n",
       "    <tr>\n",
       "      <th>0</th>\n",
       "      <td>최 상 위 클래쓰부터 남다름! 지금 즉시 입장! 프리미엄 코드: *, 3만원 드림!</td>\n",
       "      <td>최 상 위 클래쓰부터 남다름! 지금 즉시 입장! 프리미엄 코드: *, 3만원 드림!</td>\n",
       "      <td>1</td>\n",
       "    </tr>\n",
       "    <tr>\n",
       "      <th>1</th>\n",
       "      <td>[no.1] 압도적 클라스! 지금 바로 합류하세요! 가입 선물 30,000 포인트!...</td>\n",
       "      <td>[no.1] 압도적 클라스! 지금 바로 합류하세요! 가입 선물 30,000 포인트!...</td>\n",
       "      <td>1</td>\n",
       "    </tr>\n",
       "    <tr>\n",
       "      <th>2</th>\n",
       "      <td>남다른 '선택'의 기준! 프리미엄 경험! 웰컴 기프트 3만원! 출금자유! 비밀 초대...</td>\n",
       "      <td>남다른 '선택'의 기준! 프리미엄 경험! 웰컴 기프트 3만원! 출금자유! 비밀 초대...</td>\n",
       "      <td>1</td>\n",
       "    </tr>\n",
       "    <tr>\n",
       "      <th>3</th>\n",
       "      <td>1st 등극? 새롭게 태어난 당신을 위한 기회! 가입 3만원! 즉시 출금! 문의는 ...</td>\n",
       "      <td>1st 등극? 새롭게 태어난 당신을 위한 기회! 가입 3만원! 즉시 출금! 문의는 ...</td>\n",
       "      <td>1</td>\n",
       "    </tr>\n",
       "    <tr>\n",
       "      <th>4</th>\n",
       "      <td>(최고급) 프.리.미.엄.급. 혜택! 처음 오신 분께만 드려요! 30,000p 지급...</td>\n",
       "      <td>(최고급) 프.리.미.엄.급. 혜택! 처음 오신 분께만 드려요! 30,000p 지급...</td>\n",
       "      <td>1</td>\n",
       "    </tr>\n",
       "    <tr>\n",
       "      <th>...</th>\n",
       "      <td>...</td>\n",
       "      <td>...</td>\n",
       "      <td>...</td>\n",
       "    </tr>\n",
       "    <tr>\n",
       "      <th>2156</th>\n",
       "      <td>\\*\\* 단돈 십만, 사흘만에 이천 사백 넘게? 꿈이 현실로\\~ 이 기회 놓치면 후...</td>\n",
       "      <td>\\*\\* 단돈 십만, 사흘만에 이천 사백 넘게? 꿈이 현실로\\~ 이 기회 놓치면 후...</td>\n",
       "      <td>1</td>\n",
       "    </tr>\n",
       "    <tr>\n",
       "      <th>2157</th>\n",
       "      <td>\\*\\*10만원이 2435만원으로... 3일 만에. 비결은?\\*\\* 지금 바로 비법...</td>\n",
       "      <td>\\*\\*10만원이 2435만원으로... 3일 만에. 비결은?\\*\\* 지금 바로 비법...</td>\n",
       "      <td>1</td>\n",
       "    </tr>\n",
       "    <tr>\n",
       "      <th>2158</th>\n",
       "      <td>\\*\\*십만냥으로 삼일만에 억소리나는 부자 되기 도전!\\*\\* 선착순 무료 시범 운...</td>\n",
       "      <td>\\*\\*십만냥으로 삼일만에 억소리나는 부자 되기 도전!\\*\\* 선착순 무료 시범 운...</td>\n",
       "      <td>1</td>\n",
       "    </tr>\n",
       "    <tr>\n",
       "      <th>2159</th>\n",
       "      <td>\\*\\*백k로 시작, 72시간 내 24m 이상 폭발적 수익! 비공개 채널\\*\\* 선...</td>\n",
       "      <td>\\*\\*백k로 시작, 72시간 내 24m 이상 폭발적 수익! 비공개 채널\\*\\* 선...</td>\n",
       "      <td>1</td>\n",
       "    </tr>\n",
       "    <tr>\n",
       "      <th>2160</th>\n",
       "      <td>\\*\\*단돈 십만원이 2435만원?! 사흘의 기적!\\*\\* 비밀의 문이 열립니다. ...</td>\n",
       "      <td>\\*\\*단돈 십만원이 2435만원?! 사흘의 기적!\\*\\* 비밀의 문이 열립니다. ...</td>\n",
       "      <td>1</td>\n",
       "    </tr>\n",
       "  </tbody>\n",
       "</table>\n",
       "<p>2161 rows × 3 columns</p>\n",
       "</div>"
      ],
      "text/plain": [
       "                                                      0  \\\n",
       "0        최 상 위 클래쓰부터 남다름! 지금 즉시 입장! 프리미엄 코드: *, 3만원 드림!   \n",
       "1     [no.1] 압도적 클라스! 지금 바로 합류하세요! 가입 선물 30,000 포인트!...   \n",
       "2     남다른 '선택'의 기준! 프리미엄 경험! 웰컴 기프트 3만원! 출금자유! 비밀 초대...   \n",
       "3     1st 등극? 새롭게 태어난 당신을 위한 기회! 가입 3만원! 즉시 출금! 문의는 ...   \n",
       "4     (최고급) 프.리.미.엄.급. 혜택! 처음 오신 분께만 드려요! 30,000p 지급...   \n",
       "...                                                 ...   \n",
       "2156  \\*\\* 단돈 십만, 사흘만에 이천 사백 넘게? 꿈이 현실로\\~ 이 기회 놓치면 후...   \n",
       "2157  \\*\\*10만원이 2435만원으로... 3일 만에. 비결은?\\*\\* 지금 바로 비법...   \n",
       "2158  \\*\\*십만냥으로 삼일만에 억소리나는 부자 되기 도전!\\*\\* 선착순 무료 시범 운...   \n",
       "2159  \\*\\*백k로 시작, 72시간 내 24m 이상 폭발적 수익! 비공개 채널\\*\\* 선...   \n",
       "2160  \\*\\*단돈 십만원이 2435만원?! 사흘의 기적!\\*\\* 비밀의 문이 열립니다. ...   \n",
       "\n",
       "                                                message  type  \n",
       "0        최 상 위 클래쓰부터 남다름! 지금 즉시 입장! 프리미엄 코드: *, 3만원 드림!     1  \n",
       "1     [no.1] 압도적 클라스! 지금 바로 합류하세요! 가입 선물 30,000 포인트!...     1  \n",
       "2     남다른 '선택'의 기준! 프리미엄 경험! 웰컴 기프트 3만원! 출금자유! 비밀 초대...     1  \n",
       "3     1st 등극? 새롭게 태어난 당신을 위한 기회! 가입 3만원! 즉시 출금! 문의는 ...     1  \n",
       "4     (최고급) 프.리.미.엄.급. 혜택! 처음 오신 분께만 드려요! 30,000p 지급...     1  \n",
       "...                                                 ...   ...  \n",
       "2156  \\*\\* 단돈 십만, 사흘만에 이천 사백 넘게? 꿈이 현실로\\~ 이 기회 놓치면 후...     1  \n",
       "2157  \\*\\*10만원이 2435만원으로... 3일 만에. 비결은?\\*\\* 지금 바로 비법...     1  \n",
       "2158  \\*\\*십만냥으로 삼일만에 억소리나는 부자 되기 도전!\\*\\* 선착순 무료 시범 운...     1  \n",
       "2159  \\*\\*백k로 시작, 72시간 내 24m 이상 폭발적 수익! 비공개 채널\\*\\* 선...     1  \n",
       "2160  \\*\\*단돈 십만원이 2435만원?! 사흘의 기적!\\*\\* 비밀의 문이 열립니다. ...     1  \n",
       "\n",
       "[2161 rows x 3 columns]"
      ]
     },
     "execution_count": 3,
     "metadata": {},
     "output_type": "execute_result"
    }
   ],
   "source": [
    "data = pd.read_json(\"spam2-up.json\")\n",
    "data[\"message\"] = data[0]\n",
    "data[\"type\"] = 1\n",
    "data"
   ]
  },
  {
   "cell_type": "code",
   "execution_count": 4,
   "metadata": {},
   "outputs": [
    {
     "data": {
      "image/png": "[encoded data removed]",
      "text/plain": [
       "<Figure size 1000x600 with 1 Axes>"
      ]
     },
     "metadata": {},
     "output_type": "display_data"
    }
   ],
   "source": [
    "# Calculate the length of the message for each row\n",
    "data['message_length'] = data['message'].apply(len)\n",
    "\n",
    "# Separate data by type\n",
    "data_type_0 = data[data['type'] == 0]\n",
    "data_type_1 = data[data['type'] == 1]\n",
    "\n",
    "# Create the plot\n",
    "plt.figure(figsize=(10, 6))\n",
    "\n",
    "# Plot histogram for type 0\n",
    "plt.hist(data_type_0['message_length'], bins=50, alpha=0.5, label='Type 0')\n",
    "\n",
    "# Plot histogram for type 1\n",
    "plt.hist(data_type_1['message_length'], bins=50, alpha=0.5, label='Type 1')\n",
    "\n",
    "# Add title and labels\n",
    "plt.title('Distribution of Message Length by Type')\n",
    "plt.xlabel('Message Length')\n",
    "plt.ylabel('Frequency')\n",
    "plt.legend()\n",
    "plt.grid(True)\n",
    "\n",
    "# Show the plot\n",
    "plt.show()"
   ]
  },
  {
   "cell_type": "code",
   "execution_count": 5,
   "metadata": {},
   "outputs": [
    {
     "data": {
      "text/plain": [
       "np.False_"
      ]
     },
     "execution_count": 5,
     "metadata": {},
     "output_type": "execute_result"
    }
   ],
   "source": [
    "data.isnull().values.any()"
   ]
  },
  {
   "cell_type": "code",
   "execution_count": 6,
   "metadata": {},
   "outputs": [
    {
     "data": {
      "text/plain": [
       "2161"
      ]
     },
     "execution_count": 6,
     "metadata": {},
     "output_type": "execute_result"
    }
   ],
   "source": [
    "data['message'].nunique()"
   ]
  },
  {
   "cell_type": "code",
   "execution_count": 7,
   "metadata": {},
   "outputs": [
    {
     "data": {
      "text/plain": [
       "<Axes: xlabel='type'>"
      ]
     },
     "execution_count": 7,
     "metadata": {},
     "output_type": "execute_result"
    },
    {
     "data": {
      "image/png": "[encoded data removed]",
      "text/plain": [
       "<Figure size 640x480 with 1 Axes>"
      ]
     },
     "metadata": {},
     "output_type": "display_data"
    }
   ],
   "source": [
    "data['type'].value_counts().plot(kind='bar')"
   ]
  },
  {
   "cell_type": "code",
   "execution_count": 8,
   "metadata": {},
   "outputs": [
    {
     "name": "stderr",
     "output_type": "stream",
     "text": [
      "100%|██████████| 2161/2161 [00:02<00:00, 782.22it/s] \n"
     ]
    }
   ],
   "source": [
    "# 토큰화\n",
    "from tqdm import tqdm\n",
    "from kiwipiepy import Kiwi\n",
    "\n",
    "kiwi = Kiwi(num_workers=32)\n",
    "tqdm.pandas()\n",
    "\n",
    "def get_tokens(text):\n",
    "    if pd.isna(text) or not text:\n",
    "        return []\n",
    "    tokens = kiwi.tokenize(str(text))\n",
    "    filtered_tokens = []\n",
    "    for token in tokens:\n",
    "        if token.tag[0] in ['N', 'V', 'M', 'S', 'U', 'W']:\n",
    "            filtered_tokens.append(token.form)\n",
    "    return filtered_tokens\n",
    "\n",
    "data['tokens'] = data['message'].progress_apply(get_tokens)"
   ]
  },
  {
   "cell_type": "code",
   "execution_count": 9,
   "metadata": {},
   "outputs": [],
   "source": [
    "del data[0]\n",
    "del data[\"message\"]\n",
    "del data[\"message_length\"]\n",
    "data.to_json(\"test-kiwi.json\", orient='records', force_ascii=False)"
   ]
  },
  {
   "cell_type": "code",
   "execution_count": null,
   "metadata": {},
   "outputs": [],
   "source": []
  }
 ],
 "metadata": {
  "kernelspec": {
   "display_name": ".venv",
   "language": "python",
   "name": "python3"
  },
  "language_info": {
   "codemirror_mode": {
    "name": "ipython",
    "version": 3
   },
   "file_extension": ".py",
   "mimetype": "text/x-python",
   "name": "python",
   "nbconvert_exporter": "python",
   "pygments_lexer": "ipython3",
   "version": "3.10.12"
  }
 },
 "nbformat": 4,
 "nbformat_minor": 2
}
