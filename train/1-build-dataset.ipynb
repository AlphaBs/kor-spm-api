{
 "cells": [
  {
   "cell_type": "code",
   "execution_count": 27,
   "metadata": {},
   "outputs": [],
   "source": [
    "import numpy as numpy\n",
    "import pandas as pd\n",
    "import matplotlib.pyplot as plt"
   ]
  },
  {
   "cell_type": "code",
   "execution_count": 28,
   "metadata": {},
   "outputs": [
    {
     "name": "stdout",
     "output_type": "stream",
     "text": [
      "5000\n",
      "5000\n",
      "1643\n",
      "4000\n",
      "435\n"
     ]
    },
    {
     "data": {
      "text/html": [
       "<div>\n",
       "<style scoped>\n",
       "    .dataframe tbody tr th:only-of-type {\n",
       "        vertical-align: middle;\n",
       "    }\n",
       "\n",
       "    .dataframe tbody tr th {\n",
       "        vertical-align: top;\n",
       "    }\n",
       "\n",
       "    .dataframe thead th {\n",
       "        text-align: right;\n",
       "    }\n",
       "</style>\n",
       "<table border=\"1\" class=\"dataframe\">\n",
       "  <thead>\n",
       "    <tr style=\"text-align: right;\">\n",
       "      <th></th>\n",
       "      <th>type</th>\n",
       "      <th>message</th>\n",
       "    </tr>\n",
       "  </thead>\n",
       "  <tbody>\n",
       "    <tr>\n",
       "      <th>0</th>\n",
       "      <td>0</td>\n",
       "      <td>[ak플라자 수원]ak플라자 수원에 찾아온 크리스마스&gt; http://m.akplaz...</td>\n",
       "    </tr>\n",
       "    <tr>\n",
       "      <th>1</th>\n",
       "      <td>0</td>\n",
       "      <td>[kt] d- super flexday / (금) open!?금/토/일, 단 일 최...</td>\n",
       "    </tr>\n",
       "    <tr>\n",
       "      <th>2</th>\n",
       "      <td>0</td>\n",
       "      <td>향남 청년정육점 소잡는날!!육회, 사시미 예약받습니다!!육회 사시면 수제소스 증정!...</td>\n",
       "    </tr>\n",
       "    <tr>\n",
       "      <th>3</th>\n",
       "      <td>0</td>\n",
       "      <td>[skt] t 멤버십 vip 고객님 한정 tmap 대리 만 원 쿠폰 안내고객님, 안...</td>\n",
       "    </tr>\n",
       "    <tr>\n",
       "      <th>4</th>\n",
       "      <td>0</td>\n",
       "      <td>hearts봉선동 대림 e-편한세상hearts 남구 교육 번지 no. 브랜드 광주 ...</td>\n",
       "    </tr>\n",
       "    <tr>\n",
       "      <th>...</th>\n",
       "      <td>...</td>\n",
       "      <td>...</td>\n",
       "    </tr>\n",
       "    <tr>\n",
       "      <th>18167</th>\n",
       "      <td>1</td>\n",
       "      <td>고객님으이 으인증번호는 1819 입니닷. http://dmm2o24.com/</td>\n",
       "    </tr>\n",
       "    <tr>\n",
       "      <th>18168</th>\n",
       "      <td>1</td>\n",
       "      <td>gaip 200% b0nus ev3nt 농구 매 쿼터 유럽형 kasino star ...</td>\n",
       "    </tr>\n",
       "    <tr>\n",
       "      <th>18169</th>\n",
       "      <td>1</td>\n",
       "      <td>무료 3만원 환.가.능 카 슬 스 미 다 o k https://u2.to/2kf4j...</td>\n",
       "    </tr>\n",
       "    <tr>\n",
       "      <th>18170</th>\n",
       "      <td>1</td>\n",
       "      <td>cashback햏사 카.지.노 2% 3플러스2 5플러스3 1플러스5 3플러스1 1플...</td>\n",
       "    </tr>\n",
       "    <tr>\n",
       "      <th>18171</th>\n",
       "      <td>1</td>\n",
       "      <td>안_녕하세요! 지난번 2등버노 놓치시셨나요? xg0.kr/9hl 이번에는 놓치지마세요!</td>\n",
       "    </tr>\n",
       "  </tbody>\n",
       "</table>\n",
       "<p>18172 rows × 2 columns</p>\n",
       "</div>"
      ],
      "text/plain": [
       "       type                                            message\n",
       "0         0  [ak플라자 수원]ak플라자 수원에 찾아온 크리스마스> http://m.akplaz...\n",
       "1         0  [kt] d- super flexday / (금) open!?금/토/일, 단 일 최...\n",
       "2         0  향남 청년정육점 소잡는날!!육회, 사시미 예약받습니다!!육회 사시면 수제소스 증정!...\n",
       "3         0  [skt] t 멤버십 vip 고객님 한정 tmap 대리 만 원 쿠폰 안내고객님, 안...\n",
       "4         0  hearts봉선동 대림 e-편한세상hearts 남구 교육 번지 no. 브랜드 광주 ...\n",
       "...     ...                                                ...\n",
       "18167     1         고객님으이 으인증번호는 1819 입니닷. http://dmm2o24.com/\n",
       "18168     1  gaip 200% b0nus ev3nt 농구 매 쿼터 유럽형 kasino star ...\n",
       "18169     1  무료 3만원 환.가.능 카 슬 스 미 다 o k https://u2.to/2kf4j...\n",
       "18170     1  cashback햏사 카.지.노 2% 3플러스2 5플러스3 1플러스5 3플러스1 1플...\n",
       "18171     1   안_녕하세요! 지난번 2등버노 놓치시셨나요? xg0.kr/9hl 이번에는 놓치지마세요!\n",
       "\n",
       "[18172 rows x 2 columns]"
      ]
     },
     "execution_count": 28,
     "metadata": {},
     "output_type": "execute_result"
    }
   ],
   "source": [
    "normal_data = pd.read_json(\"normal.json\")\n",
    "chat_data = pd.read_json(\"chat.json\")\n",
    "group1_data = pd.read_json(\"clean-group-1.json\")\n",
    "\n",
    "spam_data = pd.read_json(\"spam.json\")\n",
    "spam_data2 = pd.read_json(\"spam2.json\")\n",
    "spam_data2_up = pd.read_json(\"spam2-up.json\")\n",
    "\n",
    "group1_df = pd.DataFrame({ 'type': 0, 'message': group1_data.iloc[:, 0] }) # (개인) 정상\n",
    "normal_df = pd.DataFrame({ 'type': 0, 'message': normal_data.iloc[:, 0] }) # (경찰청) 광고\n",
    "sampled_normal_df = normal_df.sample(n=5000, random_state=42)\n",
    "chat_df = pd.DataFrame({ 'type': 0, 'message': chat_data.iloc[:, 0] }) # 한국어 멀티턴 대화\n",
    "sampled_chat_df = chat_df.sample(n=5000, random_state=42)\n",
    "\n",
    "spam_df = pd.DataFrame({ 'type': 1, 'message': spam_data.iloc[:4000, 0] }) # (경찰청) 스팸\n",
    "spam2_df = pd.DataFrame({ 'type': 1, 'message': spam_data2.iloc[:, 0] }) # (개인) 스팸\n",
    "spam2_up_df = pd.DataFrame({ 'type': 1, 'message': spam_data2_up.iloc[:, 0] }) # (개인) 스팸 증강\n",
    "\n",
    "print(sampled_normal_df.shape[0])\n",
    "print(sampled_chat_df.shape[0])\n",
    "print(group1_df.shape[0])\n",
    "print(spam_df.shape[0])\n",
    "print(spam2_df.shape[0])\n",
    "\n",
    "data = pd.concat([sampled_normal_df, sampled_chat_df, group1_df, spam_df, spam2_df, spam2_up_df], ignore_index=True)\n",
    "#data = pd.concat([normal_df, chat_df, group1_df, spam_df, spam2_df, spam2_up_df], ignore_index=True)\n",
    "data"
   ]
  },
  {
   "cell_type": "code",
   "execution_count": 29,
   "metadata": {},
   "outputs": [
    {
     "data": {
      "image/png": "[encoded data removed]",
      "text/plain": [
       "<Figure size 1000x600 with 1 Axes>"
      ]
     },
     "metadata": {},
     "output_type": "display_data"
    }
   ],
   "source": [
    "# Calculate the length of the message for each row\n",
    "data['message_length'] = data['message'].apply(len)\n",
    "\n",
    "# Separate data by type\n",
    "data_type_0 = data[data['type'] == 0]\n",
    "data_type_1 = data[data['type'] == 1]\n",
    "\n",
    "# Create the plot\n",
    "plt.figure(figsize=(10, 6))\n",
    "\n",
    "# Plot histogram for type 0\n",
    "plt.hist(data_type_0['message_length'], bins=50, alpha=0.5, label='Type 0')\n",
    "\n",
    "# Plot histogram for type 1\n",
    "plt.hist(data_type_1['message_length'], bins=50, alpha=0.5, label='Type 1')\n",
    "\n",
    "# Add title and labels\n",
    "plt.title('Distribution of Message Length by Type')\n",
    "plt.xlabel('Message Length')\n",
    "plt.ylabel('Frequency')\n",
    "plt.legend()\n",
    "plt.grid(True)\n",
    "\n",
    "# Show the plot\n",
    "plt.show()"
   ]
  },
  {
   "cell_type": "code",
   "execution_count": 30,
   "metadata": {},
   "outputs": [
    {
     "data": {
      "text/plain": [
       "np.False_"
      ]
     },
     "execution_count": 30,
     "metadata": {},
     "output_type": "execute_result"
    }
   ],
   "source": [
    "data.isnull().values.any()"
   ]
  },
  {
   "cell_type": "code",
   "execution_count": 31,
   "metadata": {},
   "outputs": [
    {
     "data": {
      "text/plain": [
       "18162"
      ]
     },
     "execution_count": 31,
     "metadata": {},
     "output_type": "execute_result"
    }
   ],
   "source": [
    "data['message'].nunique()"
   ]
  },
  {
   "cell_type": "code",
   "execution_count": 32,
   "metadata": {},
   "outputs": [
    {
     "data": {
      "text/plain": [
       "<Axes: xlabel='type'>"
      ]
     },
     "execution_count": 32,
     "metadata": {},
     "output_type": "execute_result"
    },
    {
     "data": {
      "image/png": "[encoded data removed]",
      "text/plain": [
       "<Figure size 640x480 with 1 Axes>"
      ]
     },
     "metadata": {},
     "output_type": "display_data"
    }
   ],
   "source": [
    "data['type'].value_counts().plot(kind='bar')"
   ]
  },
  {
   "cell_type": "code",
   "execution_count": 33,
   "metadata": {},
   "outputs": [
    {
     "name": "stderr",
     "output_type": "stream",
     "text": [
      "100%|██████████| 18172/18172 [00:49<00:00, 370.63it/s] \n"
     ]
    }
   ],
   "source": [
    "# 토큰화\n",
    "from tqdm import tqdm\n",
    "from kiwipiepy import Kiwi\n",
    "\n",
    "kiwi = Kiwi(num_workers=32)\n",
    "tqdm.pandas()\n",
    "\n",
    "def get_tokens(text):\n",
    "    if pd.isna(text) or not text:\n",
    "        return []\n",
    "    tokens = kiwi.tokenize(str(text))\n",
    "    filtered_tokens = []\n",
    "    for token in tokens:\n",
    "        if token.tag[0] in ['N', 'V', 'M', 'S', 'U', 'W']:\n",
    "            filtered_tokens.append(token.form)\n",
    "    return filtered_tokens\n",
    "\n",
    "data['tokens'] = data['message'].progress_apply(get_tokens)\n"
   ]
  },
  {
   "cell_type": "code",
   "execution_count": 34,
   "metadata": {},
   "outputs": [],
   "source": [
    "from sklearn.model_selection import train_test_split\n",
    "\n",
    "X = data[\"tokens\"]\n",
    "y = data[\"type\"]\n",
    "\n",
    "X_train, X_test, y_train, y_test = train_test_split(X, y, test_size=0.2, random_state=42, stratify=y)\n",
    "\n",
    "train_df = pd.DataFrame({'tokens': X_train, 'type': y_train})\n",
    "train_df.to_json('dataset-train.json', orient='records', indent=4, force_ascii=False)\n",
    "\n",
    "test_df = pd.DataFrame({'tokens': X_test, 'type': y_test})\n",
    "test_df.to_json('dataset-test.json', orient='records', indent=4, force_ascii=False)\n"
   ]
  },
  {
   "cell_type": "code",
   "execution_count": 35,
   "metadata": {},
   "outputs": [],
   "source": [
    "from tf_keras.preprocessing.text import Tokenizer\n",
    "\n",
    "tokenizer = Tokenizer()\n",
    "tokenizer.fit_on_texts(X_train)"
   ]
  },
  {
   "cell_type": "code",
   "execution_count": 36,
   "metadata": {},
   "outputs": [
    {
     "name": "stdout",
     "output_type": "stream",
     "text": [
      "단어 집합(vocabulary)의 크기 : 32889\n",
      "등장 빈도가 9번 이하인 희귀 단어의 수: 27510\n",
      "단어 집합에서 희귀 단어의 비율: 83.64498768585241\n",
      "전체 등장 빈도에서 희귀 단어 등장 빈도 비율: 6.465487836110419\n"
     ]
    }
   ],
   "source": [
    "threshold = 10\n",
    "total_cnt = len(tokenizer.word_index) # 단어의 수\n",
    "rare_cnt = 0 # 등장 빈도수가 threshold보다 작은 단어의 개수를 카운트\n",
    "total_freq = 0 # 훈련 데이터의 전체 단어 빈도수 총 합\n",
    "rare_freq = 0 # 등장 빈도수가 threshold보다 작은 단어의 등장 빈도수의 총 합\n",
    "\n",
    "# 단어와 빈도수의 쌍(pair)을 key와 value로 받는다.\n",
    "for key, value in tokenizer.word_counts.items():\n",
    "    total_freq = total_freq + value\n",
    "\n",
    "    # 단어의 등장 빈도수가 threshold보다 작으면\n",
    "    if(value < threshold):\n",
    "        rare_cnt = rare_cnt + 1\n",
    "        rare_freq = rare_freq + value\n",
    "\n",
    "print('단어 집합(vocabulary)의 크기 :',total_cnt)\n",
    "print('등장 빈도가 %s번 이하인 희귀 단어의 수: %s'%(threshold - 1, rare_cnt))\n",
    "print(\"단어 집합에서 희귀 단어의 비율:\", (rare_cnt / total_cnt)*100)\n",
    "print(\"전체 등장 빈도에서 희귀 단어 등장 빈도 비율:\", (rare_freq / total_freq)*100)"
   ]
  },
  {
   "cell_type": "code",
   "execution_count": 37,
   "metadata": {},
   "outputs": [
    {
     "name": "stdout",
     "output_type": "stream",
     "text": [
      "단어 집합의 크기 : 5380\n"
     ]
    }
   ],
   "source": [
    "vocab_size = total_cnt - rare_cnt + 1\n",
    "print('단어 집합의 크기 :',vocab_size)"
   ]
  },
  {
   "cell_type": "code",
   "execution_count": 38,
   "metadata": {},
   "outputs": [],
   "source": [
    "# tokenizer\n",
    "tokenizer = Tokenizer(vocab_size) \n",
    "tokenizer.fit_on_texts(X_train)\n",
    "X_train = tokenizer.texts_to_sequences(X_train)"
   ]
  },
  {
   "cell_type": "code",
   "execution_count": 39,
   "metadata": {},
   "outputs": [],
   "source": [
    "import pickle\n",
    "with open('tokenizer.pickle', 'wb') as handle:\n",
    "    pickle.dump(tokenizer, handle, protocol=pickle.HIGHEST_PROTOCOL)"
   ]
  }
 ],
 "metadata": {
  "kernelspec": {
   "display_name": ".venv",
   "language": "python",
   "name": "python3"
  },
  "language_info": {
   "codemirror_mode": {
    "name": "ipython",
    "version": 3
   },
   "file_extension": ".py",
   "mimetype": "text/x-python",
   "name": "python",
   "nbconvert_exporter": "python",
   "pygments_lexer": "ipython3",
   "version": "3.10.12"
  }
 },
 "nbformat": 4,
 "nbformat_minor": 2
}
