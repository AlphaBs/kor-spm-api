{
 "cells": [
  {
   "cell_type": "code",
   "execution_count": 1,
   "metadata": {},
   "outputs": [
    {
     "name": "stderr",
     "output_type": "stream",
     "text": [
      "2025-05-31 19:58:27.705617: I tensorflow/core/util/port.cc:153] oneDNN custom operations are on. You may see slightly different numerical results due to floating-point round-off errors from different computation orders. To turn them off, set the environment variable `TF_ENABLE_ONEDNN_OPTS=0`.\n",
      "2025-05-31 19:58:27.706562: I external/local_xla/xla/tsl/cuda/cudart_stub.cc:32] Could not find cuda drivers on your machine, GPU will not be used.\n",
      "2025-05-31 19:58:27.710946: I external/local_xla/xla/tsl/cuda/cudart_stub.cc:32] Could not find cuda drivers on your machine, GPU will not be used.\n",
      "2025-05-31 19:58:27.720803: E external/local_xla/xla/stream_executor/cuda/cuda_fft.cc:467] Unable to register cuFFT factory: Attempting to register factory for plugin cuFFT when one has already been registered\n",
      "WARNING: All log messages before absl::InitializeLog() is called are written to STDERR\n",
      "E0000 00:00:1748689107.739687   25824 cuda_dnn.cc:8579] Unable to register cuDNN factory: Attempting to register factory for plugin cuDNN when one has already been registered\n",
      "E0000 00:00:1748689107.745735   25824 cuda_blas.cc:1407] Unable to register cuBLAS factory: Attempting to register factory for plugin cuBLAS when one has already been registered\n",
      "W0000 00:00:1748689107.764785   25824 computation_placer.cc:177] computation placer already registered. Please check linkage and avoid linking the same target more than once.\n",
      "W0000 00:00:1748689107.764863   25824 computation_placer.cc:177] computation placer already registered. Please check linkage and avoid linking the same target more than once.\n",
      "W0000 00:00:1748689107.764866   25824 computation_placer.cc:177] computation placer already registered. Please check linkage and avoid linking the same target more than once.\n",
      "W0000 00:00:1748689107.764868   25824 computation_placer.cc:177] computation placer already registered. Please check linkage and avoid linking the same target more than once.\n",
      "2025-05-31 19:58:27.772338: I tensorflow/core/platform/cpu_feature_guard.cc:210] This TensorFlow binary is optimized to use available CPU instructions in performance-critical operations.\n",
      "To enable the following instructions: AVX2 AVX512F AVX512_VNNI AVX512_BF16 FMA, in other operations, rebuild TensorFlow with the appropriate compiler flags.\n"
     ]
    }
   ],
   "source": [
    "import pickle\n",
    "from pandas import pandas as pd\n",
    "from tf_keras.preprocessing.text import Tokenizer\n",
    "\n",
    "with open('tokenizer-jamo-cnn.pickle', 'rb') as handle:\n",
    "    tokenizer = pickle.load(handle)"
   ]
  },
  {
   "cell_type": "code",
   "execution_count": 2,
   "metadata": {},
   "outputs": [
    {
     "name": "stderr",
     "output_type": "stream",
     "text": [
      "2025-05-31 19:58:32.405146: E external/local_xla/xla/stream_executor/cuda/cuda_platform.cc:51] failed call to cuInit: INTERNAL: CUDA error: Failed call to cuInit: UNKNOWN ERROR (303)\n"
     ]
    }
   ],
   "source": [
    "from tf_keras.models import load_model\n",
    "\n",
    "model = load_model('cnn-jamo.keras')"
   ]
  },
  {
   "cell_type": "code",
   "execution_count": 3,
   "metadata": {},
   "outputs": [],
   "source": [
    "queries = [\n",
    "    \"[대한통운] 19523523912 금일 13시 배송예정. 담당기사 박* (*-*-*))\",\n",
    "    \"무엇이 기다리고 있나요? 저는 아파트에 배송 했어요.\",\n",
    "    \"신!규3만-지-급 출1금OK 첫 츙+ 뽀5너스 1000+\",\n",
    "    \"안녕하세요, 고객님. 신규 회원가입을 축하드립니다. 추가 3만원 쿠폰을 받으려면?\",\n",
    "    \"축하합니다 고객님! 문자를 받으신 분께만 깜짝 10,000원 적립금을 드렸어요.\",\n",
    "    \"tel: vji32d 안녕하세요 고객님, 문자를 받으신 분들은 적립금을 드리니 확인해 보세요.\"\n",
    "]"
   ]
  },
  {
   "cell_type": "code",
   "execution_count": 4,
   "metadata": {},
   "outputs": [
    {
     "name": "stdout",
     "output_type": "stream",
     "text": [
      "['[ㄷㅐ-ㅎㅏㄴㅌㅗㅇㅇㅜㄴ] 19523523912 ㄱㅡㅁㅇㅣㄹ 13ㅅㅣ- ㅂㅐ-ㅅㅗㅇㅇㅖ-ㅈㅓㅇ. ㄷㅏㅁㄷㅏㅇㄱㅣ-ㅅㅏ- ㅂㅏㄱ* (*-*-*))', 'ㅁㅜ-ㅇㅓㅅㅇㅣ- ㄱㅣ-ㄷㅏ-ㄹㅣ-ㄱㅗ- ㅇㅣㅆㄴㅏ-ㅇㅛ-? ㅈㅓ-ㄴㅡㄴ ㅇㅏ-ㅍㅏ-ㅌㅡ-ㅇㅔ- ㅂㅐ-ㅅㅗㅇ ㅎㅐㅆㅇㅓ-ㅇㅛ-.', 'ㅅㅣㄴ!ㄱㅠ-3ㅁㅏㄴ-ㅈㅣ--ㄱㅡㅂ ㅊㅜㄹ1ㄱㅡㅁok ㅊㅓㅅ ㅊㅠㅇ+ ㅃㅗ-5ㄴㅓ-ㅅㅡ- 1000+', 'ㅇㅏㄴㄴㅕㅇㅎㅏ-ㅅㅔ-ㅇㅛ-, ㄱㅗ-ㄱㅐㄱㄴㅣㅁ. ㅅㅣㄴㄱㅠ- ㅎㅚ-ㅇㅝㄴㄱㅏ-ㅇㅣㅂㅇㅡㄹ ㅊㅜㄱㅎㅏ-ㄷㅡ-ㄹㅣㅂㄴㅣ-ㄷㅏ-. ㅊㅜ-ㄱㅏ- 3ㅁㅏㄴㅇㅝㄴ ㅋㅜ-ㅍㅗㄴㅇㅡㄹ ㅂㅏㄷㅇㅡ-ㄹㅕ-ㅁㅕㄴ?', 'ㅊㅜㄱㅎㅏ-ㅎㅏㅂㄴㅣ-ㄷㅏ- ㄱㅗ-ㄱㅐㄱㄴㅣㅁ! ㅁㅜㄴㅈㅏ-ㄹㅡㄹ ㅂㅏㄷㅇㅡ-ㅅㅣㄴ ㅂㅜㄴㄲㅔ-ㅁㅏㄴ ㄲㅏㅁㅉㅏㄱ 10,000ㅇㅝㄴ ㅈㅓㄱㄹㅣㅂㄱㅡㅁㅇㅡㄹ ㄷㅡ-ㄹㅕㅆㅇㅓ-ㅇㅛ-.', 'tel: vji32d ㅇㅏㄴㄴㅕㅇㅎㅏ-ㅅㅔ-ㅇㅛ- ㄱㅗ-ㄱㅐㄱㄴㅣㅁ, ㅁㅜㄴㅈㅏ-ㄹㅡㄹ ㅂㅏㄷㅇㅡ-ㅅㅣㄴ ㅂㅜㄴㄷㅡㄹㅇㅡㄴ ㅈㅓㄱㄹㅣㅂㄱㅡㅁㅇㅡㄹ ㄷㅡ-ㄹㅣ-ㄴㅣ- ㅎㅘㄱㅇㅣㄴㅎㅐ- ㅂㅗ-ㅅㅔ-ㅇㅛ-.']\n",
      "1/1 [==============================] - 0s 76ms/step\n",
      "0%, [대한통운] 19523523912 금일 13시 배송예정. 담당기사 박* (*-*-*))\n",
      "3%, 무엇이 기다리고 있나요? 저는 아파트에 배송 했어요.\n",
      "0%, 신!규3만-지-급 출1금OK 첫 츙+ 뽀5너스 1000+\n",
      "0%, 안녕하세요, 고객님. 신규 회원가입을 축하드립니다. 추가 3만원 쿠폰을 받으려면?\n",
      "0%, 축하합니다 고객님! 문자를 받으신 분께만 깜짝 10,000원 적립금을 드렸어요.\n",
      "33%, tel: vji32d 안녕하세요 고객님, 문자를 받으신 분들은 적립금을 드리니 확인해 보세요.\n"
     ]
    }
   ],
   "source": [
    "from cleanutils import clean_message\n",
    "\n",
    "jamo = [clean_message(q, True) for q in queries]\n",
    "print(jamo)\n",
    "tokens = tokenizer.texts_to_sequences(jamo)\n",
    "\n",
    "max_len = 1000\n",
    "from tf_keras.preprocessing.sequence import pad_sequences\n",
    "tokens = pad_sequences(tokens, maxlen=max_len)\n",
    "\n",
    "results = model.predict(tokens)\n",
    "for i, probability in enumerate(results):\n",
    "    percentage = probability[0] * 100\n",
    "    print(f\"{percentage:.0f}%, {queries[i]}\")"
   ]
  },
  {
   "cell_type": "code",
   "execution_count": null,
   "metadata": {},
   "outputs": [],
   "source": []
  }
 ],
 "metadata": {
  "kernelspec": {
   "display_name": ".venv",
   "language": "python",
   "name": "python3"
  },
  "language_info": {
   "codemirror_mode": {
    "name": "ipython",
    "version": 3
   },
   "file_extension": ".py",
   "mimetype": "text/x-python",
   "name": "python",
   "nbconvert_exporter": "python",
   "pygments_lexer": "ipython3",
   "version": "3.10.12"
  }
 },
 "nbformat": 4,
 "nbformat_minor": 2
}
