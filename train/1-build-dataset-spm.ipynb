{
 "cells": [
  {
   "cell_type": "code",
   "execution_count": 13,
   "metadata": {},
   "outputs": [],
   "source": [
    "import numpy as numpy\n",
    "import pandas as pd\n",
    "import matplotlib.pyplot as plt"
   ]
  },
  {
   "cell_type": "code",
   "execution_count": 14,
   "metadata": {},
   "outputs": [
    {
     "name": "stdout",
     "output_type": "stream",
     "text": [
      "5000\n",
      "5000\n",
      "1643\n",
      "4000\n",
      "435\n"
     ]
    }
   ],
   "source": [
    "normal_data = pd.read_json(\"normal.json\")\n",
    "chat_data = pd.read_json(\"chat.json\")\n",
    "group1_data = pd.read_json(\"clean-group-1.json\")\n",
    "\n",
    "spam_data = pd.read_json(\"spam.json\")\n",
    "spam_data2 = pd.read_json(\"spam2.json\")\n",
    "spam_data2_up = pd.read_json(\"spam2-up.json\")\n",
    "\n",
    "group1_df = pd.DataFrame({ 'type': 0, 'message': group1_data.iloc[:, 0] }) # (개인) 정상\n",
    "normal_df = pd.DataFrame({ 'type': 0, 'message': normal_data.iloc[:, 0] }) # (경찰청) 광고\n",
    "sampled_normal_df = normal_df.sample(n=5000, random_state=42)\n",
    "chat_df = pd.DataFrame({ 'type': 0, 'message': chat_data.iloc[:, 0] }) # 한국어 멀티턴 대화\n",
    "sampled_chat_df = chat_df.sample(n=5000, random_state=42)\n",
    "\n",
    "spam_df = pd.DataFrame({ 'type': 1, 'message': spam_data.iloc[:4000, 0] }) # (경찰청) 스팸\n",
    "spam2_df = pd.DataFrame({ 'type': 1, 'message': spam_data2.iloc[:, 0] }) # (개인) 스팸\n",
    "spam2_up_df = pd.DataFrame({ 'type': 1, 'message': spam_data2_up.iloc[:, 0] }) # (개인) 스팸 증강\n",
    "\n",
    "print(sampled_normal_df.shape[0])\n",
    "print(sampled_chat_df.shape[0])\n",
    "print(group1_df.shape[0])\n",
    "print(spam_df.shape[0])\n",
    "print(spam2_df.shape[0])"
   ]
  },
  {
   "cell_type": "code",
   "execution_count": 15,
   "metadata": {},
   "outputs": [],
   "source": [
    "data = pd.concat([normal_df, chat_df, group1_df, spam_df, spam2_df, spam2_up_df], ignore_index=True)\n",
    "\n",
    "with open(\"dataset.txt\", \"w\", encoding=\"utf-8\") as f:\n",
    "    for message in data[\"message\"]:\n",
    "        f.write(str(message) + \"\\n\")"
   ]
  },
  {
   "cell_type": "code",
   "execution_count": 16,
   "metadata": {},
   "outputs": [],
   "source": [
    "from sklearn.model_selection import train_test_split\n",
    "\n",
    "data = pd.concat([sampled_normal_df, sampled_chat_df, group1_df, spam_df, spam2_df, spam2_up_df], ignore_index=True)\n",
    "\n",
    "X = data[\"message\"]\n",
    "y = data[\"type\"]\n",
    "\n",
    "X_train, X_test, y_train, y_test = train_test_split(X, y, test_size=0.2, random_state=42, stratify=y)\n",
    "\n",
    "train_df = pd.DataFrame({'message': X_train, 'type': y_train})\n",
    "train_df.to_json('dataset-train-spm.json', orient='records', indent=4, force_ascii=False)\n",
    "\n",
    "test_df = pd.DataFrame({'message': X_test, 'type': y_test})\n",
    "test_df.to_json('dataset-test-spm.json', orient='records', indent=4, force_ascii=False)\n"
   ]
  }
 ],
 "metadata": {
  "kernelspec": {
   "display_name": ".venv",
   "language": "python",
   "name": "python3"
  },
  "language_info": {
   "codemirror_mode": {
    "name": "ipython",
    "version": 3
   },
   "file_extension": ".py",
   "mimetype": "text/x-python",
   "name": "python",
   "nbconvert_exporter": "python",
   "pygments_lexer": "ipython3",
   "version": "3.10.12"
  }
 },
 "nbformat": 4,
 "nbformat_minor": 2
}
