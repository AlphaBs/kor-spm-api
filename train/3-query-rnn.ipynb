{
 "cells": [
  {
   "cell_type": "code",
   "execution_count": 1,
   "metadata": {},
   "outputs": [
    {
     "name": "stderr",
     "output_type": "stream",
     "text": [
      "2025-05-31 19:59:00.813184: I tensorflow/core/util/port.cc:153] oneDNN custom operations are on. You may see slightly different numerical results due to floating-point round-off errors from different computation orders. To turn them off, set the environment variable `TF_ENABLE_ONEDNN_OPTS=0`.\n",
      "2025-05-31 19:59:00.813890: I external/local_xla/xla/tsl/cuda/cudart_stub.cc:32] Could not find cuda drivers on your machine, GPU will not be used.\n",
      "2025-05-31 19:59:00.817196: I external/local_xla/xla/tsl/cuda/cudart_stub.cc:32] Could not find cuda drivers on your machine, GPU will not be used.\n",
      "2025-05-31 19:59:00.827853: E external/local_xla/xla/stream_executor/cuda/cuda_fft.cc:467] Unable to register cuFFT factory: Attempting to register factory for plugin cuFFT when one has already been registered\n",
      "WARNING: All log messages before absl::InitializeLog() is called are written to STDERR\n",
      "E0000 00:00:1748689140.845447   26152 cuda_dnn.cc:8579] Unable to register cuDNN factory: Attempting to register factory for plugin cuDNN when one has already been registered\n",
      "E0000 00:00:1748689140.850006   26152 cuda_blas.cc:1407] Unable to register cuBLAS factory: Attempting to register factory for plugin cuBLAS when one has already been registered\n",
      "W0000 00:00:1748689140.864486   26152 computation_placer.cc:177] computation placer already registered. Please check linkage and avoid linking the same target more than once.\n",
      "W0000 00:00:1748689140.864515   26152 computation_placer.cc:177] computation placer already registered. Please check linkage and avoid linking the same target more than once.\n",
      "W0000 00:00:1748689140.864517   26152 computation_placer.cc:177] computation placer already registered. Please check linkage and avoid linking the same target more than once.\n",
      "W0000 00:00:1748689140.864519   26152 computation_placer.cc:177] computation placer already registered. Please check linkage and avoid linking the same target more than once.\n",
      "2025-05-31 19:59:00.869252: I tensorflow/core/platform/cpu_feature_guard.cc:210] This TensorFlow binary is optimized to use available CPU instructions in performance-critical operations.\n",
      "To enable the following instructions: AVX2 AVX512F AVX512_VNNI AVX512_BF16 FMA, in other operations, rebuild TensorFlow with the appropriate compiler flags.\n"
     ]
    }
   ],
   "source": [
    "import pickle\n",
    "from tf_keras.preprocessing.text import Tokenizer\n",
    "\n",
    "with open('tokenizer.pickle', 'rb') as handle:\n",
    "    tokenizer = pickle.load(handle)"
   ]
  },
  {
   "cell_type": "code",
   "execution_count": 2,
   "metadata": {},
   "outputs": [
    {
     "name": "stderr",
     "output_type": "stream",
     "text": [
      "2025-05-31 19:59:04.546154: E external/local_xla/xla/stream_executor/cuda/cuda_platform.cc:51] failed call to cuInit: INTERNAL: CUDA error: Failed call to cuInit: UNKNOWN ERROR (303)\n"
     ]
    }
   ],
   "source": [
    "from tf_keras.models import load_model\n",
    "model = load_model('rnn.keras')"
   ]
  },
  {
   "cell_type": "code",
   "execution_count": 3,
   "metadata": {},
   "outputs": [],
   "source": [
    "from kiwipiepy import Kiwi\n",
    "from pandas import pandas as pd\n",
    "from cleanutils import clean_message\n",
    "\n",
    "kiwi = Kiwi()\n",
    "\n",
    "def get_tokens(text):\n",
    "    if pd.isna(text) or not text:\n",
    "        return []\n",
    "    text = clean_message(text, False)\n",
    "    tokens = kiwi.tokenize(str(text))\n",
    "    filtered_tokens = []\n",
    "    for token in tokens:\n",
    "        if token.tag[0] in ['N', 'V', 'M', 'S', 'U']:\n",
    "            filtered_tokens.append(token.form)\n",
    "    return filtered_tokens"
   ]
  },
  {
   "cell_type": "code",
   "execution_count": 4,
   "metadata": {},
   "outputs": [],
   "source": [
    "queries = [\n",
    "    \"[대한통운] 19523523912 금일 13시 배송예정. 담당기사 박* (*-*-*))\",\n",
    "    \"무엇이 기다리고 있나요? 저는 아파트에 배송 했어요.\",\n",
    "    \"신!규3만-지-급 출1금OK 첫 츙+ 뽀5너스 1000+\",\n",
    "    \"안녕하세요, 고객님. 신규 회원가입을 축하드립니다. 추가 3만원 쿠폰을 받으려면?\",\n",
    "    \"축하합니다 고객님! 문자를 받으신 분께만 깜짝 10,000원 적립금을 드렸어요.\",\n",
    "    \"tel: vji32d 안녕하세요 고객님, 문자를 받으신 분들은 적립금을 드리니 확인해 보세요.\"\n",
    "]"
   ]
  },
  {
   "cell_type": "code",
   "execution_count": 5,
   "metadata": {},
   "outputs": [
    {
     "name": "stdout",
     "output_type": "stream",
     "text": [
      "[['[', '대한통운', ']', '19523523912', '금일', '13', '시', '배송', '예정', '.', '담당', '기사', '박', '*', '(', '*', '-', '*', '-', '*', ')', ')'], ['무엇', '기다리', '있', '?', '저', '아파트', '배송', '.'], ['신', '!', '규3', '-', '지', '-', '급', '추', '1', '금', 'ok', '첫', '츙', '+', '뽀5', '너스', '1000', '+'], ['안녕하세요', ',', '고객', '.', '신규', '회원', '가입', '축하', '드리', '.', '추가', '3', '만', '원', '쿠폰', '받', '?'], ['축하', '고객', '!', '문자', '받', '분', '깜짝', '10,000', '원', '적립금', '드리', '.'], ['tel', ':', 'vji', '32', 'd', '안녕하세요', '고객', ',', '문자', '받', '분', '적립금', '드리', '확인', '보', '.']]\n",
      "1/1 [==============================] - 0s 158ms/step\n",
      "93%, [대한통운] 19523523912 금일 13시 배송예정. 담당기사 박* (*-*-*))\n",
      "0%, 무엇이 기다리고 있나요? 저는 아파트에 배송 했어요.\n",
      "100%, 신!규3만-지-급 출1금OK 첫 츙+ 뽀5너스 1000+\n",
      "100%, 안녕하세요, 고객님. 신규 회원가입을 축하드립니다. 추가 3만원 쿠폰을 받으려면?\n",
      "33%, 축하합니다 고객님! 문자를 받으신 분께만 깜짝 10,000원 적립금을 드렸어요.\n",
      "99%, tel: vji32d 안녕하세요 고객님, 문자를 받으신 분들은 적립금을 드리니 확인해 보세요.\n"
     ]
    }
   ],
   "source": [
    "tokens = [get_tokens(q) for q in queries]\n",
    "print(tokens)\n",
    "tokens = tokenizer.texts_to_sequences(tokens)\n",
    "\n",
    "max_len = 200\n",
    "from tf_keras.preprocessing.sequence import pad_sequences\n",
    "tokens = pad_sequences(tokens, maxlen=max_len)\n",
    "\n",
    "results = model.predict(tokens)\n",
    "for i, probability in enumerate(results):\n",
    "    percentage = probability[0] * 100\n",
    "    print(f\"{percentage:.0f}%, {queries[i]}\")"
   ]
  },
  {
   "cell_type": "code",
   "execution_count": null,
   "metadata": {},
   "outputs": [],
   "source": []
  }
 ],
 "metadata": {
  "kernelspec": {
   "display_name": ".venv",
   "language": "python",
   "name": "python3"
  },
  "language_info": {
   "codemirror_mode": {
    "name": "ipython",
    "version": 3
   },
   "file_extension": ".py",
   "mimetype": "text/x-python",
   "name": "python",
   "nbconvert_exporter": "python",
   "pygments_lexer": "ipython3",
   "version": "3.10.12"
  }
 },
 "nbformat": 4,
 "nbformat_minor": 2
}
