{
 "cells": [
  {
   "cell_type": "code",
   "execution_count": 33,
   "metadata": {},
   "outputs": [],
   "source": [
    "from pandas import pandas as pd\n",
    "from tf_keras.preprocessing.text import Tokenizer\n",
    "import pickle\n",
    "\n",
    "data_train = pd.read_json(\"dataset-jamo-train.json\")\n",
    "X_train = data_train[\"message\"]\n",
    "Y_train = data_train[\"type\"]\n",
    "\n",
    "with open(\"tokenizer-jamo.pickle\", 'rb') as handle:\n",
    "        tokenizer = pickle.load(handle)\n",
    "X_train = tokenizer.texts_to_sequences(X_train)\n",
    "\n",
    "vocab_size = 124"
   ]
  },
  {
   "cell_type": "code",
   "execution_count": 34,
   "metadata": {},
   "outputs": [
    {
     "name": "stdout",
     "output_type": "stream",
     "text": [
      "최대 길이 : 4673\n",
      "평균 길이 : 437.770688201624\n"
     ]
    },
    {
     "data": {
      "image/png": "[encoded data removed]",
      "text/plain": [
       "<Figure size 640x480 with 1 Axes>"
      ]
     },
     "metadata": {},
     "output_type": "display_data"
    }
   ],
   "source": [
    "from matplotlib import pyplot as plt\n",
    "\n",
    "print('최대 길이 :',max(len(review) for review in X_train))\n",
    "print('평균 길이 :',sum(map(len, X_train))/len(X_train))\n",
    "plt.hist([len(review) for review in X_train], bins=50)\n",
    "plt.xlabel('length of samples')\n",
    "plt.ylabel('number of samples')\n",
    "plt.show()\n"
   ]
  },
  {
   "cell_type": "code",
   "execution_count": 35,
   "metadata": {},
   "outputs": [],
   "source": [
    "def below_threshold_len(max_len, nested_list):\n",
    "  count = 0\n",
    "  for sentence in nested_list:\n",
    "    if(len(sentence) <= max_len):\n",
    "        count = count + 1\n",
    "  print('전체 샘플 중 길이가 %s 이하인 샘플의 비율: %s'%(max_len, (count / len(nested_list))*100))"
   ]
  },
  {
   "cell_type": "code",
   "execution_count": 36,
   "metadata": {},
   "outputs": [
    {
     "name": "stdout",
     "output_type": "stream",
     "text": [
      "전체 샘플 중 길이가 800 이하인 샘플의 비율: 79.07441096862937\n"
     ]
    }
   ],
   "source": [
    "max_len = 800\n",
    "below_threshold_len(max_len, X_train)"
   ]
  },
  {
   "cell_type": "code",
   "execution_count": 37,
   "metadata": {},
   "outputs": [],
   "source": [
    "from tf_keras.preprocessing.sequence import pad_sequences\n",
    "\n",
    "X_train = pad_sequences(X_train, maxlen=max_len)"
   ]
  },
  {
   "cell_type": "code",
   "execution_count": 38,
   "metadata": {},
   "outputs": [
    {
     "name": "stdout",
     "output_type": "stream",
     "text": [
      "Epoch 1/20\n",
      "282/282 [==============================] - ETA: 0s - loss: 0.3439 - acc: 0.8502\n",
      "Epoch 1: val_acc improved from -inf to 0.95253, saving model to cnn-jamo.keras\n",
      "282/282 [==============================] - 87s 307ms/step - loss: 0.3439 - acc: 0.8502 - val_loss: 0.1433 - val_acc: 0.9525\n",
      "Epoch 2/20\n",
      "282/282 [==============================] - ETA: 0s - loss: 0.1250 - acc: 0.9598\n",
      "Epoch 2: val_acc improved from 0.95253 to 0.97183, saving model to cnn-jamo.keras\n",
      "282/282 [==============================] - 129s 459ms/step - loss: 0.1250 - acc: 0.9598 - val_loss: 0.0905 - val_acc: 0.9718\n",
      "Epoch 3/20\n",
      "282/282 [==============================] - ETA: 0s - loss: 0.0899 - acc: 0.9717\n",
      "Epoch 3: val_acc improved from 0.97183 to 0.97626, saving model to cnn-jamo.keras\n",
      "282/282 [==============================] - 101s 358ms/step - loss: 0.0899 - acc: 0.9717 - val_loss: 0.0817 - val_acc: 0.9763\n",
      "Epoch 4/20\n",
      "282/282 [==============================] - ETA: 0s - loss: 0.0739 - acc: 0.9769\n",
      "Epoch 4: val_acc improved from 0.97626 to 0.98092, saving model to cnn-jamo.keras\n",
      "282/282 [==============================] - 85s 302ms/step - loss: 0.0739 - acc: 0.9769 - val_loss: 0.0701 - val_acc: 0.9809\n",
      "Epoch 5/20\n",
      "282/282 [==============================] - ETA: 0s - loss: 0.0628 - acc: 0.9808\n",
      "Epoch 5: val_acc improved from 0.98092 to 0.98447, saving model to cnn-jamo.keras\n",
      "282/282 [==============================] - 86s 306ms/step - loss: 0.0628 - acc: 0.9808 - val_loss: 0.0545 - val_acc: 0.9845\n",
      "Epoch 6/20\n",
      "282/282 [==============================] - ETA: 0s - loss: 0.0519 - acc: 0.9838\n",
      "Epoch 6: val_acc improved from 0.98447 to 0.98647, saving model to cnn-jamo.keras\n",
      "282/282 [==============================] - 74s 264ms/step - loss: 0.0519 - acc: 0.9838 - val_loss: 0.0499 - val_acc: 0.9865\n",
      "Epoch 7/20\n",
      "282/282 [==============================] - ETA: 0s - loss: 0.0432 - acc: 0.9868\n",
      "Epoch 7: val_acc did not improve from 0.98647\n",
      "282/282 [==============================] - 73s 260ms/step - loss: 0.0432 - acc: 0.9868 - val_loss: 0.0496 - val_acc: 0.9849\n",
      "Epoch 8/20\n",
      "282/282 [==============================] - ETA: 0s - loss: 0.0397 - acc: 0.9881\n",
      "Epoch 8: val_acc improved from 0.98647 to 0.98980, saving model to cnn-jamo.keras\n",
      "282/282 [==============================] - 68s 243ms/step - loss: 0.0397 - acc: 0.9881 - val_loss: 0.0408 - val_acc: 0.9898\n",
      "Epoch 9/20\n",
      "282/282 [==============================] - ETA: 0s - loss: 0.0349 - acc: 0.9900\n",
      "Epoch 9: val_acc improved from 0.98980 to 0.99091, saving model to cnn-jamo.keras\n",
      "282/282 [==============================] - 67s 239ms/step - loss: 0.0349 - acc: 0.9900 - val_loss: 0.0386 - val_acc: 0.9909\n",
      "Epoch 10/20\n",
      "282/282 [==============================] - ETA: 0s - loss: 0.0289 - acc: 0.9917\n",
      "Epoch 10: val_acc did not improve from 0.99091\n",
      "282/282 [==============================] - 68s 240ms/step - loss: 0.0289 - acc: 0.9917 - val_loss: 0.0359 - val_acc: 0.9909\n",
      "Epoch 11/20\n",
      "282/282 [==============================] - ETA: 0s - loss: 0.0261 - acc: 0.9925\n",
      "Epoch 11: val_acc improved from 0.99091 to 0.99135, saving model to cnn-jamo.keras\n",
      "282/282 [==============================] - 67s 237ms/step - loss: 0.0261 - acc: 0.9925 - val_loss: 0.0357 - val_acc: 0.9913\n",
      "Epoch 12/20\n",
      "282/282 [==============================] - ETA: 0s - loss: 0.0228 - acc: 0.9928\n",
      "Epoch 12: val_acc did not improve from 0.99135\n",
      "282/282 [==============================] - 67s 238ms/step - loss: 0.0228 - acc: 0.9928 - val_loss: 0.0363 - val_acc: 0.9905\n",
      "Epoch 13/20\n",
      "282/282 [==============================] - ETA: 0s - loss: 0.0218 - acc: 0.9928\n",
      "Epoch 13: val_acc did not improve from 0.99135\n",
      "282/282 [==============================] - 67s 236ms/step - loss: 0.0218 - acc: 0.9928 - val_loss: 0.0386 - val_acc: 0.9902\n",
      "Epoch 14/20\n",
      "282/282 [==============================] - ETA: 0s - loss: 0.0183 - acc: 0.9947\n",
      "Epoch 14: val_acc did not improve from 0.99135\n",
      "282/282 [==============================] - 67s 237ms/step - loss: 0.0183 - acc: 0.9947 - val_loss: 0.0342 - val_acc: 0.9913\n",
      "Epoch 15/20\n",
      "282/282 [==============================] - ETA: 0s - loss: 0.0200 - acc: 0.9939\n",
      "Epoch 15: val_acc did not improve from 0.99135\n",
      "282/282 [==============================] - 67s 239ms/step - loss: 0.0200 - acc: 0.9939 - val_loss: 0.0333 - val_acc: 0.9911\n",
      "Epoch 16/20\n",
      "282/282 [==============================] - ETA: 0s - loss: 0.0145 - acc: 0.9954\n",
      "Epoch 16: val_acc improved from 0.99135 to 0.99157, saving model to cnn-jamo.keras\n",
      "282/282 [==============================] - 67s 237ms/step - loss: 0.0145 - acc: 0.9954 - val_loss: 0.0325 - val_acc: 0.9916\n",
      "Epoch 17/20\n",
      "282/282 [==============================] - ETA: 0s - loss: 0.0148 - acc: 0.9952\n",
      "Epoch 17: val_acc improved from 0.99157 to 0.99201, saving model to cnn-jamo.keras\n",
      "282/282 [==============================] - 67s 236ms/step - loss: 0.0148 - acc: 0.9952 - val_loss: 0.0327 - val_acc: 0.9920\n",
      "Epoch 18/20\n",
      "282/282 [==============================] - ETA: 0s - loss: 0.0125 - acc: 0.9962\n",
      "Epoch 18: val_acc did not improve from 0.99201\n",
      "282/282 [==============================] - 67s 237ms/step - loss: 0.0125 - acc: 0.9962 - val_loss: 0.0323 - val_acc: 0.9920\n",
      "Epoch 19/20\n",
      "282/282 [==============================] - ETA: 0s - loss: 0.0111 - acc: 0.9968\n",
      "Epoch 19: val_acc improved from 0.99201 to 0.99224, saving model to cnn-jamo.keras\n",
      "282/282 [==============================] - 69s 244ms/step - loss: 0.0111 - acc: 0.9968 - val_loss: 0.0328 - val_acc: 0.9922\n",
      "Epoch 20/20\n",
      "282/282 [==============================] - ETA: 0s - loss: 0.0117 - acc: 0.9964\n",
      "Epoch 20: val_acc did not improve from 0.99224\n",
      "282/282 [==============================] - 69s 245ms/step - loss: 0.0117 - acc: 0.9964 - val_loss: 0.0361 - val_acc: 0.9916\n"
     ]
    }
   ],
   "source": [
    "from tf_keras.layers import Dense, Conv1D, GlobalMaxPooling1D, Embedding, Dropout, MaxPooling1D\n",
    "from tf_keras.models import Sequential\n",
    "from tf_keras.callbacks import EarlyStopping, ModelCheckpoint\n",
    "\n",
    "embedding_dim = 16\n",
    "dropout_ratio = 0.3\n",
    "num_filters = 128\n",
    "kernel_size = 60\n",
    "\n",
    "model = Sequential()\n",
    "model.add(Embedding(vocab_size, embedding_dim))\n",
    "model.add(Dropout(dropout_ratio))\n",
    "model.add(Conv1D(num_filters, kernel_size, padding='valid', activation='relu'))\n",
    "model.add(GlobalMaxPooling1D())\n",
    "model.add(Dropout(dropout_ratio))\n",
    "model.add(Dense(1, activation='sigmoid'))\n",
    "model.compile(optimizer='adam', loss='binary_crossentropy', metrics=['acc'])\n",
    "\n",
    "es = EarlyStopping(monitor='val_loss', mode='min', verbose=1, patience=3)\n",
    "mc = ModelCheckpoint('cnn-jamo.keras', monitor = 'val_acc', mode='max', verbose=1, save_best_only=True)\n",
    "\n",
    "history = model.fit(X_train, Y_train, epochs=20, batch_size=64, validation_split=0.2, callbacks=[es, mc])\n"
   ]
  },
  {
   "cell_type": "code",
   "execution_count": 39,
   "metadata": {},
   "outputs": [
    {
     "name": "stdout",
     "output_type": "stream",
     "text": [
      "Epoch 1/20\n",
      "282/282 [==============================] - ETA: 0s - loss: 0.4052 - acc: 0.8099\n",
      "Epoch 1: val_acc improved from -inf to 0.78061, saving model to cnn-jamo-deep.keras\n",
      "282/282 [==============================] - 36s 127ms/step - loss: 0.4052 - acc: 0.8099 - val_loss: 0.4149 - val_acc: 0.7806\n",
      "Epoch 2/20\n",
      "282/282 [==============================] - ETA: 0s - loss: 0.2464 - acc: 0.8984\n",
      "Epoch 2: val_acc improved from 0.78061 to 0.90750, saving model to cnn-jamo-deep.keras\n",
      "282/282 [==============================] - 38s 133ms/step - loss: 0.2464 - acc: 0.8984 - val_loss: 0.1994 - val_acc: 0.9075\n",
      "Epoch 3/20\n",
      "282/282 [==============================] - ETA: 0s - loss: 0.1101 - acc: 0.9633\n",
      "Epoch 3: val_acc improved from 0.90750 to 0.92258, saving model to cnn-jamo-deep.keras\n",
      "282/282 [==============================] - 38s 134ms/step - loss: 0.1101 - acc: 0.9633 - val_loss: 0.1691 - val_acc: 0.9226\n",
      "Epoch 4/20\n",
      "282/282 [==============================] - ETA: 0s - loss: 0.0874 - acc: 0.9736\n",
      "Epoch 4: val_acc improved from 0.92258 to 0.93168, saving model to cnn-jamo-deep.keras\n",
      "282/282 [==============================] - 38s 134ms/step - loss: 0.0874 - acc: 0.9736 - val_loss: 0.1474 - val_acc: 0.9317\n",
      "Epoch 5/20\n",
      "282/282 [==============================] - ETA: 0s - loss: 0.0745 - acc: 0.9771\n",
      "Epoch 5: val_acc improved from 0.93168 to 0.96140, saving model to cnn-jamo-deep.keras\n",
      "282/282 [==============================] - 38s 135ms/step - loss: 0.0745 - acc: 0.9771 - val_loss: 0.0995 - val_acc: 0.9614\n",
      "Epoch 6/20\n",
      "282/282 [==============================] - ETA: 0s - loss: 0.0653 - acc: 0.9811\n",
      "Epoch 6: val_acc improved from 0.96140 to 0.97360, saving model to cnn-jamo-deep.keras\n",
      "282/282 [==============================] - 39s 137ms/step - loss: 0.0653 - acc: 0.9811 - val_loss: 0.0760 - val_acc: 0.9736\n",
      "Epoch 7/20\n",
      "282/282 [==============================] - ETA: 0s - loss: 0.0574 - acc: 0.9826\n",
      "Epoch 7: val_acc improved from 0.97360 to 0.97427, saving model to cnn-jamo-deep.keras\n",
      "282/282 [==============================] - 38s 135ms/step - loss: 0.0574 - acc: 0.9826 - val_loss: 0.0736 - val_acc: 0.9743\n",
      "Epoch 8/20\n",
      "282/282 [==============================] - ETA: 0s - loss: 0.0528 - acc: 0.9840\n",
      "Epoch 8: val_acc improved from 0.97427 to 0.97671, saving model to cnn-jamo-deep.keras\n",
      "282/282 [==============================] - 38s 135ms/step - loss: 0.0528 - acc: 0.9840 - val_loss: 0.0680 - val_acc: 0.9767\n",
      "Epoch 9/20\n",
      "282/282 [==============================] - ETA: 0s - loss: 0.0501 - acc: 0.9842\n",
      "Epoch 9: val_acc improved from 0.97671 to 0.98447, saving model to cnn-jamo-deep.keras\n",
      "282/282 [==============================] - 40s 142ms/step - loss: 0.0501 - acc: 0.9842 - val_loss: 0.0504 - val_acc: 0.9845\n",
      "Epoch 10/20\n",
      "282/282 [==============================] - ETA: 0s - loss: 0.0458 - acc: 0.9860\n",
      "Epoch 10: val_acc did not improve from 0.98447\n",
      "282/282 [==============================] - 38s 135ms/step - loss: 0.0458 - acc: 0.9860 - val_loss: 0.0544 - val_acc: 0.9825\n",
      "Epoch 11/20\n",
      "282/282 [==============================] - ETA: 0s - loss: 0.0438 - acc: 0.9866\n",
      "Epoch 11: val_acc did not improve from 0.98447\n",
      "282/282 [==============================] - 39s 137ms/step - loss: 0.0438 - acc: 0.9866 - val_loss: 0.0537 - val_acc: 0.9816\n",
      "Epoch 12/20\n",
      "282/282 [==============================] - ETA: 0s - loss: 0.0422 - acc: 0.9867\n",
      "Epoch 12: val_acc improved from 0.98447 to 0.98602, saving model to cnn-jamo-deep.keras\n",
      "282/282 [==============================] - 38s 135ms/step - loss: 0.0422 - acc: 0.9867 - val_loss: 0.0459 - val_acc: 0.9860\n",
      "Epoch 13/20\n",
      "282/282 [==============================] - ETA: 0s - loss: 0.0373 - acc: 0.9887\n",
      "Epoch 13: val_acc improved from 0.98602 to 0.98846, saving model to cnn-jamo-deep.keras\n",
      "282/282 [==============================] - 38s 135ms/step - loss: 0.0373 - acc: 0.9887 - val_loss: 0.0414 - val_acc: 0.9885\n",
      "Epoch 14/20\n",
      "282/282 [==============================] - ETA: 0s - loss: 0.0367 - acc: 0.9880\n",
      "Epoch 14: val_acc improved from 0.98846 to 0.99024, saving model to cnn-jamo-deep.keras\n",
      "282/282 [==============================] - 40s 141ms/step - loss: 0.0367 - acc: 0.9880 - val_loss: 0.0386 - val_acc: 0.9902\n",
      "Epoch 15/20\n",
      "282/282 [==============================] - ETA: 0s - loss: 0.0348 - acc: 0.9892\n",
      "Epoch 15: val_acc improved from 0.99024 to 0.99046, saving model to cnn-jamo-deep.keras\n",
      "282/282 [==============================] - 40s 143ms/step - loss: 0.0348 - acc: 0.9892 - val_loss: 0.0379 - val_acc: 0.9905\n",
      "Epoch 16/20\n",
      "282/282 [==============================] - ETA: 0s - loss: 0.0328 - acc: 0.9907\n",
      "Epoch 16: val_acc did not improve from 0.99046\n",
      "282/282 [==============================] - 39s 137ms/step - loss: 0.0328 - acc: 0.9907 - val_loss: 0.0388 - val_acc: 0.9905\n",
      "Epoch 17/20\n",
      "282/282 [==============================] - ETA: 0s - loss: 0.0309 - acc: 0.9905\n",
      "Epoch 17: val_acc did not improve from 0.99046\n",
      "282/282 [==============================] - 39s 138ms/step - loss: 0.0309 - acc: 0.9905 - val_loss: 0.0439 - val_acc: 0.9865\n",
      "Epoch 18/20\n",
      "282/282 [==============================] - ETA: 0s - loss: 0.0302 - acc: 0.9901\n",
      "Epoch 18: val_acc did not improve from 0.99046\n",
      "282/282 [==============================] - 38s 134ms/step - loss: 0.0302 - acc: 0.9901 - val_loss: 0.0361 - val_acc: 0.9898\n",
      "Epoch 19/20\n",
      "282/282 [==============================] - ETA: 0s - loss: 0.0309 - acc: 0.9906\n",
      "Epoch 19: val_acc did not improve from 0.99046\n",
      "282/282 [==============================] - 38s 135ms/step - loss: 0.0309 - acc: 0.9906 - val_loss: 0.0413 - val_acc: 0.9880\n",
      "Epoch 20/20\n",
      "282/282 [==============================] - ETA: 0s - loss: 0.0301 - acc: 0.9907\n",
      "Epoch 20: val_acc did not improve from 0.99046\n",
      "282/282 [==============================] - 38s 134ms/step - loss: 0.0301 - acc: 0.9907 - val_loss: 0.0357 - val_acc: 0.9902\n"
     ]
    }
   ],
   "source": [
    "model = Sequential()\n",
    "model.add(Embedding(vocab_size, embedding_dim, input_length=max_len))\n",
    "\n",
    "# layer 1\n",
    "model.add(Conv1D(filters=64, kernel_size=3, padding='valid', activation='relu'))\n",
    "model.add(Dropout(0.5)) # 일부 자모 조합에 너무 민감히 반응함\n",
    "\n",
    "# layer 2\n",
    "model.add(Conv1D(filters=128, kernel_size=5, padding='valid', activation='relu'))\n",
    "model.add(Dropout(dropout_ratio))\n",
    "model.add(GlobalMaxPooling1D())\n",
    "\n",
    "model.add(Dense(1, activation='sigmoid'))\n",
    "\n",
    "model.compile(optimizer='adam', loss='binary_crossentropy', metrics=['acc'])\n",
    "es = EarlyStopping(monitor='val_loss', mode='min', verbose=1, patience=3)\n",
    "mc = ModelCheckpoint('cnn-jamo-deep.keras', monitor = 'val_acc', mode='max', verbose=1, save_best_only=True)\n",
    "\n",
    "history = model.fit(X_train, Y_train, epochs=20, batch_size=64, validation_split=0.2, callbacks=[es, mc])"
   ]
  },
  {
   "cell_type": "code",
   "execution_count": null,
   "metadata": {},
   "outputs": [],
   "source": []
  }
 ],
 "metadata": {
  "kernelspec": {
   "display_name": ".venv",
   "language": "python",
   "name": "python3"
  },
  "language_info": {
   "codemirror_mode": {
    "name": "ipython",
    "version": 3
   },
   "file_extension": ".py",
   "mimetype": "text/x-python",
   "name": "python",
   "nbconvert_exporter": "python",
   "pygments_lexer": "ipython3",
   "version": "3.10.12"
  }
 },
 "nbformat": 4,
 "nbformat_minor": 2
}
