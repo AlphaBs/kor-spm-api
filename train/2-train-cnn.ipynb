{
 "cells": [
  {
   "cell_type": "code",
   "execution_count": 13,
   "metadata": {},
   "outputs": [],
   "source": [
    "from pandas import pandas as pd\n",
    "from tf_keras.preprocessing.text import Tokenizer\n",
    "import pickle\n",
    "\n",
    "data_train = pd.read_json(\"dataset-train.json\")\n",
    "X_train = data_train[\"tokens\"]\n",
    "Y_train = data_train[\"type\"]\n",
    "\n",
    "with open(\"tokenizer.pickle\", 'rb') as handle:\n",
    "        tokenizer = pickle.load(handle)\n",
    "X_train = tokenizer.texts_to_sequences(X_train)\n",
    "\n",
    "vocab_size = 5380"
   ]
  },
  {
   "cell_type": "code",
   "execution_count": 14,
   "metadata": {},
   "outputs": [
    {
     "name": "stdout",
     "output_type": "stream",
     "text": [
      "최대 길이 : 820\n",
      "평균 길이 : 57.532572057508425\n"
     ]
    },
    {
     "data": {
      "image/png": "[encoded data removed]",
      "text/plain": [
       "<Figure size 640x480 with 1 Axes>"
      ]
     },
     "metadata": {},
     "output_type": "display_data"
    }
   ],
   "source": [
    "from matplotlib import pyplot as plt\n",
    "\n",
    "print('최대 길이 :',max(len(review) for review in X_train))\n",
    "print('평균 길이 :',sum(map(len, X_train))/len(X_train))\n",
    "plt.hist([len(review) for review in X_train], bins=50)\n",
    "plt.xlabel('length of samples')\n",
    "plt.ylabel('number of samples')\n",
    "plt.show()\n"
   ]
  },
  {
   "cell_type": "code",
   "execution_count": 15,
   "metadata": {},
   "outputs": [],
   "source": [
    "def below_threshold_len(max_len, nested_list):\n",
    "  count = 0\n",
    "  for sentence in nested_list:\n",
    "    if(len(sentence) <= max_len):\n",
    "        count = count + 1\n",
    "  print('전체 샘플 중 길이가 %s 이하인 샘플의 비율: %s'%(max_len, (count / len(nested_list))*100))"
   ]
  },
  {
   "cell_type": "code",
   "execution_count": 16,
   "metadata": {},
   "outputs": [
    {
     "name": "stdout",
     "output_type": "stream",
     "text": [
      "전체 샘플 중 길이가 120 이하인 샘플의 비율: 83.20836486207608\n"
     ]
    }
   ],
   "source": [
    "max_len = 120\n",
    "below_threshold_len(max_len, X_train)"
   ]
  },
  {
   "cell_type": "code",
   "execution_count": 17,
   "metadata": {},
   "outputs": [],
   "source": [
    "from tf_keras.preprocessing.sequence import pad_sequences\n",
    "\n",
    "X_train = pad_sequences(X_train, maxlen=max_len)"
   ]
  },
  {
   "cell_type": "code",
   "execution_count": 18,
   "metadata": {},
   "outputs": [
    {
     "name": "stdout",
     "output_type": "stream",
     "text": [
      "Epoch 1/10\n",
      "182/182 [==============================] - ETA: 0s - loss: 0.3409 - acc: 0.8393\n",
      "Epoch 1: val_acc improved from -inf to 0.97696, saving model to cnn.keras\n",
      "182/182 [==============================] - 16s 73ms/step - loss: 0.3409 - acc: 0.8393 - val_loss: 0.0770 - val_acc: 0.9770\n",
      "Epoch 2/10\n",
      "182/182 [==============================] - ETA: 0s - loss: 0.0653 - acc: 0.9779\n",
      "Epoch 2: val_acc improved from 0.97696 to 0.98349, saving model to cnn.keras\n",
      "182/182 [==============================] - 13s 71ms/step - loss: 0.0653 - acc: 0.9779 - val_loss: 0.0534 - val_acc: 0.9835\n",
      "Epoch 3/10\n",
      "182/182 [==============================] - ETA: 0s - loss: 0.0402 - acc: 0.9860\n",
      "Epoch 3: val_acc did not improve from 0.98349\n",
      "182/182 [==============================] - 17s 94ms/step - loss: 0.0402 - acc: 0.9860 - val_loss: 0.0505 - val_acc: 0.9828\n",
      "Epoch 4/10\n",
      "182/182 [==============================] - ETA: 0s - loss: 0.0262 - acc: 0.9915\n",
      "Epoch 4: val_acc improved from 0.98349 to 0.98693, saving model to cnn.keras\n",
      "182/182 [==============================] - 17s 95ms/step - loss: 0.0262 - acc: 0.9915 - val_loss: 0.0464 - val_acc: 0.9869\n",
      "Epoch 5/10\n",
      "182/182 [==============================] - ETA: 0s - loss: 0.0201 - acc: 0.9948\n",
      "Epoch 5: val_acc improved from 0.98693 to 0.98728, saving model to cnn.keras\n",
      "182/182 [==============================] - 18s 97ms/step - loss: 0.0201 - acc: 0.9948 - val_loss: 0.0467 - val_acc: 0.9873\n",
      "Epoch 6/10\n",
      "182/182 [==============================] - ETA: 0s - loss: 0.0137 - acc: 0.9957\n",
      "Epoch 6: val_acc did not improve from 0.98728\n",
      "182/182 [==============================] - 18s 98ms/step - loss: 0.0137 - acc: 0.9957 - val_loss: 0.0517 - val_acc: 0.9849\n",
      "Epoch 7/10\n",
      "181/182 [============================>.] - ETA: 0s - loss: 0.0115 - acc: 0.9965\n",
      "Epoch 7: val_acc did not improve from 0.98728\n",
      "182/182 [==============================] - 18s 96ms/step - loss: 0.0114 - acc: 0.9966 - val_loss: 0.0526 - val_acc: 0.9862\n",
      "Epoch 7: early stopping\n"
     ]
    }
   ],
   "source": [
    "from tf_keras.layers import Dense, Conv1D, GlobalMaxPooling1D, Embedding, Dropout, MaxPooling1D\n",
    "from tf_keras.models import Sequential\n",
    "from tf_keras.callbacks import EarlyStopping, ModelCheckpoint\n",
    "\n",
    "# single layer\n",
    "# 32,32,5   0.979 0.979\n",
    "# 32,64,5   0.978 0.975\n",
    "# 32,64,10  0.986 0.974\n",
    "# 32,64,20  0.986 0.971\n",
    "# 32,128,10 0.987 0.970\n",
    "# 32,128,20 0.989 0.975\n",
    "# 32,128,30 0.986 0.976\n",
    "# 32,32,10  0.984 0.971\n",
    "\n",
    "embedding_dim = 16\n",
    "num_filters = 128\n",
    "kernel_size = 20\n",
    "dropout_ratio = 0.3\n",
    "\n",
    "model = Sequential()\n",
    "model.add(Embedding(vocab_size, embedding_dim))\n",
    "model.add(Dropout(dropout_ratio))\n",
    "model.add(Conv1D(num_filters, kernel_size, padding='valid', activation='relu'))\n",
    "model.add(GlobalMaxPooling1D())\n",
    "model.add(Dropout(dropout_ratio))\n",
    "model.add(Dense(1, activation='sigmoid'))\n",
    "model.compile(optimizer='adam', loss='binary_crossentropy', metrics=['acc'])\n",
    "\n",
    "es = EarlyStopping(monitor='val_loss', mode='min', verbose=1, patience=3)\n",
    "mc = ModelCheckpoint('cnn.keras', monitor = 'val_acc', mode='max', verbose=1, save_best_only=True)\n",
    "\n",
    "history = model.fit(X_train, Y_train, epochs=10, batch_size=64, validation_split=0.2, callbacks=[es, mc])\n"
   ]
  }
 ],
 "metadata": {
  "kernelspec": {
   "display_name": ".venv",
   "language": "python",
   "name": "python3"
  },
  "language_info": {
   "codemirror_mode": {
    "name": "ipython",
    "version": 3
   },
   "file_extension": ".py",
   "mimetype": "text/x-python",
   "name": "python",
   "nbconvert_exporter": "python",
   "pygments_lexer": "ipython3",
   "version": "3.10.12"
  }
 },
 "nbformat": 4,
 "nbformat_minor": 2
}
