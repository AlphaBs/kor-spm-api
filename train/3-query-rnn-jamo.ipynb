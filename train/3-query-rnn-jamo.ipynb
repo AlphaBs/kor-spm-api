{
 "cells": [
  {
   "cell_type": "code",
   "execution_count": 51,
   "metadata": {},
   "outputs": [],
   "source": [
    "import pickle\n",
    "from tf_keras.preprocessing.text import Tokenizer\n",
    "\n",
    "with open('tokenizer-jamo.pickle', 'rb') as handle:\n",
    "    tokenizer = pickle.load(handle)"
   ]
  },
  {
   "cell_type": "code",
   "execution_count": 52,
   "metadata": {},
   "outputs": [],
   "source": [
    "from tf_keras.models import load_model\n",
    "model = load_model('rnn-jamo.keras')"
   ]
  },
  {
   "cell_type": "code",
   "execution_count": 53,
   "metadata": {},
   "outputs": [],
   "source": [
    "queries = [\n",
    "    \"[대한통운] 19523523912 금일 13시 배송예정. 담당기사 박* (*-*-*))\",\n",
    "    \"무엇이 기다리고 있나요? 저는 아파트에 배송 했어요.\",\n",
    "    \"신!규3만-지-급 출1금OK 첫 츙+ 뽀5너스 1000+\",\n",
    "    \"안녕하세요, 고객님. 신규 회원가입을 축하드립니다. 추가 3만원 쿠폰을 받으려면?\",\n",
    "    \"축하합니다 고객님! 문자를 받으신 분께만 깜짝 10,000원 적립금을 드렸어요.\",\n",
    "    \"tel: vji32d 안녕하세요 고객님, 문자를 받으신 분들은 적립금을 드리니 확인해 보세요.\"\n",
    "]"
   ]
  },
  {
   "cell_type": "code",
   "execution_count": 54,
   "metadata": {},
   "outputs": [
    {
     "name": "stdout",
     "output_type": "stream",
     "text": [
      "['[ㄷㅐ-ㅎㅏㄴㅌㅗㅇㅇㅜㄴ] 19523523912 ㄱㅡㅁㅇㅣㄹ 13ㅅㅣ- ㅂㅐ-ㅅㅗㅇㅇㅖ-ㅈㅓㅇ. ㄷㅏㅁㄷㅏㅇㄱㅣ-ㅅㅏ- ㅂㅏㄱ* (*-*-*))', 'ㅁㅜ-ㅇㅓㅅㅇㅣ- ㄱㅣ-ㄷㅏ-ㄹㅣ-ㄱㅗ- ㅇㅣㅆㄴㅏ-ㅇㅛ-? ㅈㅓ-ㄴㅡㄴ ㅇㅏ-ㅍㅏ-ㅌㅡ-ㅇㅔ- ㅂㅐ-ㅅㅗㅇ ㅎㅐㅆㅇㅓ-ㅇㅛ-.', 'ㅅㅣㄴ!ㄱㅠ-3ㅁㅏㄴ-ㅈㅣ--ㄱㅡㅂ ㅊㅜㄹ1ㄱㅡㅁok ㅊㅓㅅ ㅊㅠㅇ+ ㅃㅗ-5ㄴㅓ-ㅅㅡ- 1000+', 'ㅇㅏㄴㄴㅕㅇㅎㅏ-ㅅㅔ-ㅇㅛ-, ㄱㅗ-ㄱㅐㄱㄴㅣㅁ. ㅅㅣㄴㄱㅠ- ㅎㅚ-ㅇㅝㄴㄱㅏ-ㅇㅣㅂㅇㅡㄹ ㅊㅜㄱㅎㅏ-ㄷㅡ-ㄹㅣㅂㄴㅣ-ㄷㅏ-. ㅊㅜ-ㄱㅏ- 3ㅁㅏㄴㅇㅝㄴ ㅋㅜ-ㅍㅗㄴㅇㅡㄹ ㅂㅏㄷㅇㅡ-ㄹㅕ-ㅁㅕㄴ?', 'ㅊㅜㄱㅎㅏ-ㅎㅏㅂㄴㅣ-ㄷㅏ- ㄱㅗ-ㄱㅐㄱㄴㅣㅁ! ㅁㅜㄴㅈㅏ-ㄹㅡㄹ ㅂㅏㄷㅇㅡ-ㅅㅣㄴ ㅂㅜㄴㄲㅔ-ㅁㅏㄴ ㄲㅏㅁㅉㅏㄱ 10,000ㅇㅝㄴ ㅈㅓㄱㄹㅣㅂㄱㅡㅁㅇㅡㄹ ㄷㅡ-ㄹㅕㅆㅇㅓ-ㅇㅛ-.', 'tel: vji32d ㅇㅏㄴㄴㅕㅇㅎㅏ-ㅅㅔ-ㅇㅛ- ㄱㅗ-ㄱㅐㄱㄴㅣㅁ, ㅁㅜㄴㅈㅏ-ㄹㅡㄹ ㅂㅏㄷㅇㅡ-ㅅㅣㄴ ㅂㅜㄴㄷㅡㄹㅇㅡㄴ ㅈㅓㄱㄹㅣㅂㄱㅡㅁㅇㅡㄹ ㄷㅡ-ㄹㅣ-ㄴㅣ- ㅎㅘㄱㅇㅣㄴㅎㅐ- ㅂㅗ-ㅅㅔ-ㅇㅛ-.']\n",
      "1/1 [==============================] - 0s 151ms/step\n",
      "1%, [대한통운] 19523523912 금일 13시 배송예정. 담당기사 박* (*-*-*))\n",
      "0%, 무엇이 기다리고 있나요? 저는 아파트에 배송 했어요.\n",
      "97%, 신!규3만-지-급 출1금OK 첫 츙+ 뽀5너스 1000+\n",
      "2%, 안녕하세요, 고객님. 신규 회원가입을 축하드립니다. 추가 3만원 쿠폰을 받으려면?\n",
      "0%, 축하합니다 고객님! 문자를 받으신 분께만 깜짝 10,000원 적립금을 드렸어요.\n",
      "86%, tel: vji32d 안녕하세요 고객님, 문자를 받으신 분들은 적립금을 드리니 확인해 보세요.\n"
     ]
    }
   ],
   "source": [
    "from cleanutils import clean_message\n",
    "\n",
    "jamo = [clean_message(q, True) for q in queries]\n",
    "print(jamo)\n",
    "tokens = tokenizer.texts_to_sequences(jamo)\n",
    "\n",
    "max_len = 1000\n",
    "from tf_keras.preprocessing.sequence import pad_sequences\n",
    "tokens = pad_sequences(tokens, maxlen=max_len)\n",
    "\n",
    "results = model.predict(tokens)\n",
    "for i, probability in enumerate(results):\n",
    "    percentage = probability[0] * 100\n",
    "    print(f\"{percentage:.0f}%, {queries[i]}\")"
   ]
  },
  {
   "cell_type": "code",
   "execution_count": null,
   "metadata": {},
   "outputs": [],
   "source": []
  }
 ],
 "metadata": {
  "kernelspec": {
   "display_name": ".venv",
   "language": "python",
   "name": "python3"
  },
  "language_info": {
   "codemirror_mode": {
    "name": "ipython",
    "version": 3
   },
   "file_extension": ".py",
   "mimetype": "text/x-python",
   "name": "python",
   "nbconvert_exporter": "python",
   "pygments_lexer": "ipython3",
   "version": "3.10.12"
  }
 },
 "nbformat": 4,
 "nbformat_minor": 2
}
