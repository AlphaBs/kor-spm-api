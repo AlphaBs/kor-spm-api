{
 "cells": [
  {
   "cell_type": "code",
   "execution_count": 1,
   "metadata": {},
   "outputs": [
    {
     "name": "stderr",
     "output_type": "stream",
     "text": [
      "/home/ksi/ai/spam/.venv/lib/python3.10/site-packages/tqdm/auto.py:21: TqdmWarning: IProgress not found. Please update jupyter and ipywidgets. See https://ipywidgets.readthedocs.io/en/stable/user_install.html\n",
      "  from .autonotebook import tqdm as notebook_tqdm\n"
     ]
    }
   ],
   "source": [
    "from tokenizers import Tokenizer\n",
    "\n",
    "tokenizer = Tokenizer.from_pretrained(\"LGAI-EXAONE/EXAONE-3.5-7.8B-Instruct\")"
   ]
  },
  {
   "cell_type": "code",
   "execution_count": 2,
   "metadata": {},
   "outputs": [
    {
     "data": {
      "text/plain": [
       "102400"
      ]
     },
     "execution_count": 2,
     "metadata": {},
     "output_type": "execute_result"
    }
   ],
   "source": [
    "from pandas import pandas as pd\n",
    "\n",
    "data_train = pd.read_json(\"dataset-train-spm.json\")\n",
    "data_train[\"ids\"] = data_train[\"message\"].apply(lambda x: tokenizer.encode(x).ids)\n",
    "\n",
    "X_train = data_train[\"ids\"]\n",
    "Y_train = data_train[\"type\"]\n",
    "tokenizer.get_vocab_size()"
   ]
  },
  {
   "cell_type": "code",
   "execution_count": 3,
   "metadata": {},
   "outputs": [
    {
     "data": {
      "text/html": [
       "<div>\n",
       "<style scoped>\n",
       "    .dataframe tbody tr th:only-of-type {\n",
       "        vertical-align: middle;\n",
       "    }\n",
       "\n",
       "    .dataframe tbody tr th {\n",
       "        vertical-align: top;\n",
       "    }\n",
       "\n",
       "    .dataframe thead th {\n",
       "        text-align: right;\n",
       "    }\n",
       "</style>\n",
       "<table border=\"1\" class=\"dataframe\">\n",
       "  <thead>\n",
       "    <tr style=\"text-align: right;\">\n",
       "      <th></th>\n",
       "      <th>message</th>\n",
       "      <th>type</th>\n",
       "      <th>ids</th>\n",
       "    </tr>\n",
       "  </thead>\n",
       "  <tbody>\n",
       "    <tr>\n",
       "      <th>0</th>\n",
       "      <td>강릉축협하나로마트 입암점 - - 강릉축협하나로마트 입암점밴드가입: https://b...</td>\n",
       "      <td>0</td>\n",
       "      <td>[43656, 3236, 7059, 7027, 715, 5285, 1110, 488...</td>\n",
       "    </tr>\n",
       "    <tr>\n",
       "      <th>1</th>\n",
       "      <td>지방시 뷰티 샘플링 및 메이크업 서비스 이벤트칙칙하고 생기 잃은 눈가 피부를 개선해...</td>\n",
       "      <td>0</td>\n",
       "      <td>[20271, 954, 13547, 19006, 3890, 2425, 12425, ...</td>\n",
       "    </tr>\n",
       "    <tr>\n",
       "      <th>2</th>\n",
       "      <td>&lt;&lt; ln.run/vb_ z &gt;&gt;적어 가입시교촌무슨이유든노재쟤뉴비 % all 죵목 ...</td>\n",
       "      <td>1</td>\n",
       "      <td>[35642, 17146, 375, 24847, 376, 38555, 424, 17...</td>\n",
       "    </tr>\n",
       "    <tr>\n",
       "      <th>3</th>\n",
       "      <td>언뉘들 많은 곳~이쁜이들이 기다리고 있어요연락주세요 !!llne:x x</td>\n",
       "      <td>1</td>\n",
       "      <td>[2833, 78491, 1371, 1180, 732, 1763, 455, 3673...</td>\n",
       "    </tr>\n",
       "    <tr>\n",
       "      <th>4</th>\n",
       "      <td>손흥민 응원만 하 면 3 만원 톳넘 5 처넌 까고 흥민이 골 넣으면 배달의민족 3만...</td>\n",
       "      <td>1</td>\n",
       "      <td>[75981, 11204, 1043, 691, 928, 582, 380, 926, ...</td>\n",
       "    </tr>\n",
       "    <tr>\n",
       "      <th>...</th>\n",
       "      <td>...</td>\n",
       "      <td>...</td>\n",
       "      <td>...</td>\n",
       "    </tr>\n",
       "    <tr>\n",
       "      <th>14532</th>\n",
       "      <td>오창정육점 / . 일요일 정상영업 합니다 만원 정육 구매시 선물 증정 합니다한돈 암...</td>\n",
       "      <td>0</td>\n",
       "      <td>[1235, 3239, 1002, 2291, 1647, 841, 582, 375, ...</td>\n",
       "    </tr>\n",
       "    <tr>\n",
       "      <th>14533</th>\n",
       "      <td>cure-tv 주말 신규 방문 편의점 쿠폰 5만추가지급 v카카오v id : xen44</td>\n",
       "      <td>1</td>\n",
       "      <td>[428, 1025, 374, 14437, 5677, 10145, 3325, 141...</td>\n",
       "    </tr>\n",
       "    <tr>\n",
       "      <th>14534</th>\n",
       "      <td>&lt;&lt; 마포 에피트 어바닉 &gt;&gt; 최고경쟁률 : 잔여세대 선착순 줍줍!!# 입지환경 호...</td>\n",
       "      <td>0</td>\n",
       "      <td>[35642, 23286, 26201, 1067, 767, 1987, 8777, 1...</td>\n",
       "    </tr>\n",
       "    <tr>\n",
       "      <th>14535</th>\n",
       "      <td>[하나은행] 년 은행달력 증정 이벤트 배 현님! 년 은행달력, 전담직원이 다시 한번...</td>\n",
       "      <td>0</td>\n",
       "      <td>[420, 7027, 9906, 422, 1393, 5610, 2230, 1398,...</td>\n",
       "    </tr>\n",
       "    <tr>\n",
       "      <th>14536</th>\n",
       "      <td>네 저도 밥은 먹었어요ㅎㅎ 친구가 간만에 연락와서 주말에 만나기로 했네요!</td>\n",
       "      <td>0</td>\n",
       "      <td>[2781, 1229, 720, 3175, 732, 1162, 2957, 6734,...</td>\n",
       "    </tr>\n",
       "  </tbody>\n",
       "</table>\n",
       "<p>14537 rows × 3 columns</p>\n",
       "</div>"
      ],
      "text/plain": [
       "                                                 message  type  \\\n",
       "0      강릉축협하나로마트 입암점 - - 강릉축협하나로마트 입암점밴드가입: https://b...     0   \n",
       "1      지방시 뷰티 샘플링 및 메이크업 서비스 이벤트칙칙하고 생기 잃은 눈가 피부를 개선해...     0   \n",
       "2      << ln.run/vb_ z >>적어 가입시교촌무슨이유든노재쟤뉴비 % all 죵목 ...     1   \n",
       "3                언뉘들 많은 곳~이쁜이들이 기다리고 있어요연락주세요 !!llne:x x     1   \n",
       "4      손흥민 응원만 하 면 3 만원 톳넘 5 처넌 까고 흥민이 골 넣으면 배달의민족 3만...     1   \n",
       "...                                                  ...   ...   \n",
       "14532  오창정육점 / . 일요일 정상영업 합니다 만원 정육 구매시 선물 증정 합니다한돈 암...     0   \n",
       "14533    cure-tv 주말 신규 방문 편의점 쿠폰 5만추가지급 v카카오v id : xen44     1   \n",
       "14534  << 마포 에피트 어바닉 >> 최고경쟁률 : 잔여세대 선착순 줍줍!!# 입지환경 호...     0   \n",
       "14535  [하나은행] 년 은행달력 증정 이벤트 배 현님! 년 은행달력, 전담직원이 다시 한번...     0   \n",
       "14536          네 저도 밥은 먹었어요ㅎㅎ 친구가 간만에 연락와서 주말에 만나기로 했네요!     0   \n",
       "\n",
       "                                                     ids  \n",
       "0      [43656, 3236, 7059, 7027, 715, 5285, 1110, 488...  \n",
       "1      [20271, 954, 13547, 19006, 3890, 2425, 12425, ...  \n",
       "2      [35642, 17146, 375, 24847, 376, 38555, 424, 17...  \n",
       "3      [2833, 78491, 1371, 1180, 732, 1763, 455, 3673...  \n",
       "4      [75981, 11204, 1043, 691, 928, 582, 380, 926, ...  \n",
       "...                                                  ...  \n",
       "14532  [1235, 3239, 1002, 2291, 1647, 841, 582, 375, ...  \n",
       "14533  [428, 1025, 374, 14437, 5677, 10145, 3325, 141...  \n",
       "14534  [35642, 23286, 26201, 1067, 767, 1987, 8777, 1...  \n",
       "14535  [420, 7027, 9906, 422, 1393, 5610, 2230, 1398,...  \n",
       "14536  [2781, 1229, 720, 3175, 732, 1162, 2957, 6734,...  \n",
       "\n",
       "[14537 rows x 3 columns]"
      ]
     },
     "execution_count": 3,
     "metadata": {},
     "output_type": "execute_result"
    }
   ],
   "source": [
    "data_train"
   ]
  },
  {
   "cell_type": "code",
   "execution_count": 4,
   "metadata": {},
   "outputs": [
    {
     "name": "stderr",
     "output_type": "stream",
     "text": [
      "2025-06-05 12:18:01.684541: I tensorflow/core/util/port.cc:153] oneDNN custom operations are on. You may see slightly different numerical results due to floating-point round-off errors from different computation orders. To turn them off, set the environment variable `TF_ENABLE_ONEDNN_OPTS=0`.\n",
      "2025-06-05 12:18:01.697793: I external/local_xla/xla/tsl/cuda/cudart_stub.cc:32] Could not find cuda drivers on your machine, GPU will not be used.\n",
      "2025-06-05 12:18:01.726400: I external/local_xla/xla/tsl/cuda/cudart_stub.cc:32] Could not find cuda drivers on your machine, GPU will not be used.\n",
      "2025-06-05 12:18:01.772067: E external/local_xla/xla/stream_executor/cuda/cuda_fft.cc:467] Unable to register cuFFT factory: Attempting to register factory for plugin cuFFT when one has already been registered\n",
      "WARNING: All log messages before absl::InitializeLog() is called are written to STDERR\n",
      "E0000 00:00:1749093481.857615  715446 cuda_dnn.cc:8579] Unable to register cuDNN factory: Attempting to register factory for plugin cuDNN when one has already been registered\n",
      "E0000 00:00:1749093481.880507  715446 cuda_blas.cc:1407] Unable to register cuBLAS factory: Attempting to register factory for plugin cuBLAS when one has already been registered\n",
      "W0000 00:00:1749093481.988728  715446 computation_placer.cc:177] computation placer already registered. Please check linkage and avoid linking the same target more than once.\n",
      "W0000 00:00:1749093481.988822  715446 computation_placer.cc:177] computation placer already registered. Please check linkage and avoid linking the same target more than once.\n",
      "W0000 00:00:1749093481.988835  715446 computation_placer.cc:177] computation placer already registered. Please check linkage and avoid linking the same target more than once.\n",
      "W0000 00:00:1749093481.988844  715446 computation_placer.cc:177] computation placer already registered. Please check linkage and avoid linking the same target more than once.\n",
      "2025-06-05 12:18:02.042368: I tensorflow/core/platform/cpu_feature_guard.cc:210] This TensorFlow binary is optimized to use available CPU instructions in performance-critical operations.\n",
      "To enable the following instructions: AVX2 AVX512F AVX512_VNNI AVX512_BF16 FMA, in other operations, rebuild TensorFlow with the appropriate compiler flags.\n"
     ]
    }
   ],
   "source": [
    "from tf_keras.preprocessing.sequence import pad_sequences\n",
    "\n",
    "max_len = 200\n",
    "X_train = pad_sequences(X_train, maxlen=max_len)"
   ]
  },
  {
   "cell_type": "code",
   "execution_count": 5,
   "metadata": {},
   "outputs": [
    {
     "name": "stderr",
     "output_type": "stream",
     "text": [
      "2025-06-05 12:18:19.818472: E external/local_xla/xla/stream_executor/cuda/cuda_platform.cc:51] failed call to cuInit: INTERNAL: CUDA error: Failed call to cuInit: UNKNOWN ERROR (303)\n"
     ]
    },
    {
     "name": "stdout",
     "output_type": "stream",
     "text": [
      "Epoch 1/20\n",
      "182/182 [==============================] - ETA: 0s - loss: 0.3085 - acc: 0.8546\n",
      "Epoch 1: val_acc improved from -inf to 0.97937, saving model to cnn-spm.keras\n",
      "182/182 [==============================] - 39s 186ms/step - loss: 0.3085 - acc: 0.8546 - val_loss: 0.0626 - val_acc: 0.9794\n",
      "Epoch 2/20\n",
      "182/182 [==============================] - ETA: 0s - loss: 0.0382 - acc: 0.9882\n",
      "Epoch 2: val_acc improved from 0.97937 to 0.98762, saving model to cnn-spm.keras\n",
      "182/182 [==============================] - 32s 175ms/step - loss: 0.0382 - acc: 0.9882 - val_loss: 0.0388 - val_acc: 0.9876\n",
      "Epoch 3/20\n",
      "182/182 [==============================] - ETA: 0s - loss: 0.0149 - acc: 0.9959\n",
      "Epoch 3: val_acc improved from 0.98762 to 0.98900, saving model to cnn-spm.keras\n",
      "182/182 [==============================] - 31s 168ms/step - loss: 0.0149 - acc: 0.9959 - val_loss: 0.0360 - val_acc: 0.9890\n",
      "Epoch 4/20\n",
      "182/182 [==============================] - ETA: 0s - loss: 0.0072 - acc: 0.9984\n",
      "Epoch 4: val_acc did not improve from 0.98900\n",
      "182/182 [==============================] - 27s 149ms/step - loss: 0.0072 - acc: 0.9984 - val_loss: 0.0349 - val_acc: 0.9883\n",
      "Epoch 5/20\n",
      "182/182 [==============================] - ETA: 0s - loss: 0.0039 - acc: 0.9992\n",
      "Epoch 5: val_acc improved from 0.98900 to 0.99037, saving model to cnn-spm.keras\n",
      "182/182 [==============================] - 25s 139ms/step - loss: 0.0039 - acc: 0.9992 - val_loss: 0.0393 - val_acc: 0.9904\n",
      "Epoch 6/20\n",
      "182/182 [==============================] - ETA: 0s - loss: 0.0024 - acc: 0.9997\n",
      "Epoch 6: val_acc did not improve from 0.99037\n",
      "182/182 [==============================] - 27s 147ms/step - loss: 0.0024 - acc: 0.9997 - val_loss: 0.0399 - val_acc: 0.9880\n",
      "Epoch 7/20\n",
      "182/182 [==============================] - ETA: 0s - loss: 0.0020 - acc: 0.9996\n",
      "Epoch 7: val_acc did not improve from 0.99037\n",
      "182/182 [==============================] - 27s 147ms/step - loss: 0.0020 - acc: 0.9996 - val_loss: 0.0428 - val_acc: 0.9873\n",
      "Epoch 7: early stopping\n"
     ]
    }
   ],
   "source": [
    "from tf_keras.layers import Dense, Conv1D, GlobalMaxPooling1D, Embedding, Dropout, MaxPooling1D\n",
    "from tf_keras.models import Sequential\n",
    "from tf_keras.callbacks import EarlyStopping, ModelCheckpoint\n",
    "\n",
    "embedding_dim = 32\n",
    "num_filters = 128\n",
    "kernel_size = 20\n",
    "dropout_ratio = 0.3\n",
    "\n",
    "model = Sequential()\n",
    "model.add(Embedding(tokenizer.get_vocab_size(), embedding_dim))\n",
    "model.add(Dropout(dropout_ratio))\n",
    "model.add(Conv1D(num_filters, kernel_size, padding='valid', activation='relu'))\n",
    "model.add(GlobalMaxPooling1D())\n",
    "model.add(Dropout(dropout_ratio))\n",
    "model.add(Dense(1, activation='sigmoid'))\n",
    "model.compile(optimizer='adam', loss='binary_crossentropy', metrics=['acc'])\n",
    "\n",
    "es = EarlyStopping(monitor='val_loss', mode='min', verbose=1, patience=3)\n",
    "mc = ModelCheckpoint('cnn-spm.keras', monitor = 'val_acc', mode='max', verbose=1, save_best_only=True)\n",
    "\n",
    "history = model.fit(X_train, Y_train, epochs=20, batch_size=64, validation_split=0.2, callbacks=[es, mc])\n"
   ]
  },
  {
   "cell_type": "code",
   "execution_count": null,
   "metadata": {},
   "outputs": [],
   "source": []
  }
 ],
 "metadata": {
  "kernelspec": {
   "display_name": ".venv",
   "language": "python",
   "name": "python3"
  },
  "language_info": {
   "codemirror_mode": {
    "name": "ipython",
    "version": 3
   },
   "file_extension": ".py",
   "mimetype": "text/x-python",
   "name": "python",
   "nbconvert_exporter": "python",
   "pygments_lexer": "ipython3",
   "version": "3.10.12"
  }
 },
 "nbformat": 4,
 "nbformat_minor": 2
}
