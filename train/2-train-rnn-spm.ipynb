{
 "cells": [
  {
   "cell_type": "code",
   "execution_count": 88,
   "metadata": {},
   "outputs": [],
   "source": [
    "from tokenizers import Tokenizer\n",
    "\n",
    "tokenizer = Tokenizer.from_pretrained(\"LGAI-EXAONE/EXAONE-3.5-7.8B-Instruct\")"
   ]
  },
  {
   "cell_type": "code",
   "execution_count": 89,
   "metadata": {},
   "outputs": [
    {
     "data": {
      "text/plain": [
       "102400"
      ]
     },
     "execution_count": 89,
     "metadata": {},
     "output_type": "execute_result"
    }
   ],
   "source": [
    "from pandas import pandas as pd\n",
    "\n",
    "data_train = pd.read_json(\"dataset-train-spm.json\")\n",
    "data_train[\"ids\"] = data_train[\"message\"].apply(lambda x: tokenizer.encode(x).ids)\n",
    "\n",
    "X_train = data_train[\"ids\"]\n",
    "Y_train = data_train[\"type\"]\n",
    "tokenizer.get_vocab_size()"
   ]
  },
  {
   "cell_type": "code",
   "execution_count": 90,
   "metadata": {},
   "outputs": [
    {
     "data": {
      "text/html": [
       "<div>\n",
       "<style scoped>\n",
       "    .dataframe tbody tr th:only-of-type {\n",
       "        vertical-align: middle;\n",
       "    }\n",
       "\n",
       "    .dataframe tbody tr th {\n",
       "        vertical-align: top;\n",
       "    }\n",
       "\n",
       "    .dataframe thead th {\n",
       "        text-align: right;\n",
       "    }\n",
       "</style>\n",
       "<table border=\"1\" class=\"dataframe\">\n",
       "  <thead>\n",
       "    <tr style=\"text-align: right;\">\n",
       "      <th></th>\n",
       "      <th>message</th>\n",
       "      <th>type</th>\n",
       "      <th>ids</th>\n",
       "    </tr>\n",
       "  </thead>\n",
       "  <tbody>\n",
       "    <tr>\n",
       "      <th>0</th>\n",
       "      <td>강릉축협하나로마트 입암점 - - 강릉축협하나로마트 입암점밴드가입: https://b...</td>\n",
       "      <td>0</td>\n",
       "      <td>[43656, 3236, 7059, 7027, 715, 5285, 1110, 488...</td>\n",
       "    </tr>\n",
       "    <tr>\n",
       "      <th>1</th>\n",
       "      <td>지방시 뷰티 샘플링 및 메이크업 서비스 이벤트칙칙하고 생기 잃은 눈가 피부를 개선해...</td>\n",
       "      <td>0</td>\n",
       "      <td>[20271, 954, 13547, 19006, 3890, 2425, 12425, ...</td>\n",
       "    </tr>\n",
       "    <tr>\n",
       "      <th>2</th>\n",
       "      <td>&lt;&lt; ln.run/vb_ z &gt;&gt;적어 가입시교촌무슨이유든노재쟤뉴비 % all 죵목 ...</td>\n",
       "      <td>1</td>\n",
       "      <td>[35642, 17146, 375, 24847, 376, 38555, 424, 17...</td>\n",
       "    </tr>\n",
       "    <tr>\n",
       "      <th>3</th>\n",
       "      <td>언뉘들 많은 곳~이쁜이들이 기다리고 있어요연락주세요 !!llne:x x</td>\n",
       "      <td>1</td>\n",
       "      <td>[2833, 78491, 1371, 1180, 732, 1763, 455, 3673...</td>\n",
       "    </tr>\n",
       "    <tr>\n",
       "      <th>4</th>\n",
       "      <td>손흥민 응원만 하 면 3 만원 톳넘 5 처넌 까고 흥민이 골 넣으면 배달의민족 3만...</td>\n",
       "      <td>1</td>\n",
       "      <td>[75981, 11204, 1043, 691, 928, 582, 380, 926, ...</td>\n",
       "    </tr>\n",
       "    <tr>\n",
       "      <th>...</th>\n",
       "      <td>...</td>\n",
       "      <td>...</td>\n",
       "      <td>...</td>\n",
       "    </tr>\n",
       "    <tr>\n",
       "      <th>14532</th>\n",
       "      <td>오창정육점 / . 일요일 정상영업 합니다 만원 정육 구매시 선물 증정 합니다한돈 암...</td>\n",
       "      <td>0</td>\n",
       "      <td>[1235, 3239, 1002, 2291, 1647, 841, 582, 375, ...</td>\n",
       "    </tr>\n",
       "    <tr>\n",
       "      <th>14533</th>\n",
       "      <td>cure-tv 주말 신규 방문 편의점 쿠폰 5만추가지급 v카카오v id : xen44</td>\n",
       "      <td>1</td>\n",
       "      <td>[428, 1025, 374, 14437, 5677, 10145, 3325, 141...</td>\n",
       "    </tr>\n",
       "    <tr>\n",
       "      <th>14534</th>\n",
       "      <td>&lt;&lt; 마포 에피트 어바닉 &gt;&gt; 최고경쟁률 : 잔여세대 선착순 줍줍!!# 입지환경 호...</td>\n",
       "      <td>0</td>\n",
       "      <td>[35642, 23286, 26201, 1067, 767, 1987, 8777, 1...</td>\n",
       "    </tr>\n",
       "    <tr>\n",
       "      <th>14535</th>\n",
       "      <td>[하나은행] 년 은행달력 증정 이벤트 배 현님! 년 은행달력, 전담직원이 다시 한번...</td>\n",
       "      <td>0</td>\n",
       "      <td>[420, 7027, 9906, 422, 1393, 5610, 2230, 1398,...</td>\n",
       "    </tr>\n",
       "    <tr>\n",
       "      <th>14536</th>\n",
       "      <td>네 저도 밥은 먹었어요ㅎㅎ 친구가 간만에 연락와서 주말에 만나기로 했네요!</td>\n",
       "      <td>0</td>\n",
       "      <td>[2781, 1229, 720, 3175, 732, 1162, 2957, 6734,...</td>\n",
       "    </tr>\n",
       "  </tbody>\n",
       "</table>\n",
       "<p>14537 rows × 3 columns</p>\n",
       "</div>"
      ],
      "text/plain": [
       "                                                 message  type  \\\n",
       "0      강릉축협하나로마트 입암점 - - 강릉축협하나로마트 입암점밴드가입: https://b...     0   \n",
       "1      지방시 뷰티 샘플링 및 메이크업 서비스 이벤트칙칙하고 생기 잃은 눈가 피부를 개선해...     0   \n",
       "2      << ln.run/vb_ z >>적어 가입시교촌무슨이유든노재쟤뉴비 % all 죵목 ...     1   \n",
       "3                언뉘들 많은 곳~이쁜이들이 기다리고 있어요연락주세요 !!llne:x x     1   \n",
       "4      손흥민 응원만 하 면 3 만원 톳넘 5 처넌 까고 흥민이 골 넣으면 배달의민족 3만...     1   \n",
       "...                                                  ...   ...   \n",
       "14532  오창정육점 / . 일요일 정상영업 합니다 만원 정육 구매시 선물 증정 합니다한돈 암...     0   \n",
       "14533    cure-tv 주말 신규 방문 편의점 쿠폰 5만추가지급 v카카오v id : xen44     1   \n",
       "14534  << 마포 에피트 어바닉 >> 최고경쟁률 : 잔여세대 선착순 줍줍!!# 입지환경 호...     0   \n",
       "14535  [하나은행] 년 은행달력 증정 이벤트 배 현님! 년 은행달력, 전담직원이 다시 한번...     0   \n",
       "14536          네 저도 밥은 먹었어요ㅎㅎ 친구가 간만에 연락와서 주말에 만나기로 했네요!     0   \n",
       "\n",
       "                                                     ids  \n",
       "0      [43656, 3236, 7059, 7027, 715, 5285, 1110, 488...  \n",
       "1      [20271, 954, 13547, 19006, 3890, 2425, 12425, ...  \n",
       "2      [35642, 17146, 375, 24847, 376, 38555, 424, 17...  \n",
       "3      [2833, 78491, 1371, 1180, 732, 1763, 455, 3673...  \n",
       "4      [75981, 11204, 1043, 691, 928, 582, 380, 926, ...  \n",
       "...                                                  ...  \n",
       "14532  [1235, 3239, 1002, 2291, 1647, 841, 582, 375, ...  \n",
       "14533  [428, 1025, 374, 14437, 5677, 10145, 3325, 141...  \n",
       "14534  [35642, 23286, 26201, 1067, 767, 1987, 8777, 1...  \n",
       "14535  [420, 7027, 9906, 422, 1393, 5610, 2230, 1398,...  \n",
       "14536  [2781, 1229, 720, 3175, 732, 1162, 2957, 6734,...  \n",
       "\n",
       "[14537 rows x 3 columns]"
      ]
     },
     "execution_count": 90,
     "metadata": {},
     "output_type": "execute_result"
    }
   ],
   "source": [
    "data_train"
   ]
  },
  {
   "cell_type": "code",
   "execution_count": 91,
   "metadata": {},
   "outputs": [],
   "source": [
    "from tf_keras.preprocessing.sequence import pad_sequences\n",
    "\n",
    "max_len = 200\n",
    "X_train = pad_sequences(X_train, maxlen=max_len)"
   ]
  },
  {
   "cell_type": "code",
   "execution_count": 92,
   "metadata": {},
   "outputs": [
    {
     "name": "stdout",
     "output_type": "stream",
     "text": [
      "Epoch 1/10\n",
      "182/182 [==============================] - ETA: 0s - loss: 0.2533 - acc: 0.8909\n",
      "Epoch 1: val_acc improved from -inf to 0.97593, saving model to rnn-spm.keras\n",
      "182/182 [==============================] - 125s 601ms/step - loss: 0.2533 - acc: 0.8909 - val_loss: 0.0766 - val_acc: 0.9759\n",
      "Epoch 2/10\n",
      "182/182 [==============================] - ETA: 0s - loss: 0.0592 - acc: 0.9813\n",
      "Epoch 2: val_acc improved from 0.97593 to 0.98487, saving model to rnn-spm.keras\n",
      "182/182 [==============================] - 95s 520ms/step - loss: 0.0592 - acc: 0.9813 - val_loss: 0.0424 - val_acc: 0.9849\n",
      "Epoch 3/10\n",
      "182/182 [==============================] - ETA: 0s - loss: 0.0345 - acc: 0.9912\n",
      "Epoch 3: val_acc improved from 0.98487 to 0.98556, saving model to rnn-spm.keras\n",
      "182/182 [==============================] - 81s 444ms/step - loss: 0.0345 - acc: 0.9912 - val_loss: 0.0395 - val_acc: 0.9856\n",
      "Epoch 4/10\n",
      "182/182 [==============================] - ETA: 0s - loss: 0.0245 - acc: 0.9935\n",
      "Epoch 4: val_acc did not improve from 0.98556\n",
      "182/182 [==============================] - 82s 449ms/step - loss: 0.0245 - acc: 0.9935 - val_loss: 0.0458 - val_acc: 0.9852\n",
      "Epoch 5/10\n",
      "182/182 [==============================] - ETA: 0s - loss: 0.0191 - acc: 0.9945\n",
      "Epoch 5: val_acc improved from 0.98556 to 0.98693, saving model to rnn-spm.keras\n",
      "182/182 [==============================] - 77s 425ms/step - loss: 0.0191 - acc: 0.9945 - val_loss: 0.0437 - val_acc: 0.9869\n",
      "Epoch 6/10\n",
      "182/182 [==============================] - ETA: 0s - loss: 0.0144 - acc: 0.9964\n",
      "Epoch 6: val_acc improved from 0.98693 to 0.98728, saving model to rnn-spm.keras\n",
      "182/182 [==============================] - 76s 417ms/step - loss: 0.0144 - acc: 0.9964 - val_loss: 0.0430 - val_acc: 0.9873\n",
      "Epoch 6: early stopping\n"
     ]
    }
   ],
   "source": [
    "from tf_keras.layers import SimpleRNN, LSTM, Embedding, Dense\n",
    "from tf_keras.models import Sequential\n",
    "from tf_keras.callbacks import EarlyStopping, ModelCheckpoint\n",
    "\n",
    "# 32,16: 0.974 0.987\n",
    "# 32,32: 0.979 0.985\n",
    "# 64,32:\n",
    "hidden_units = 64\n",
    "embedding_dim = 32\n",
    "\n",
    "model = Sequential()\n",
    "model.add(Embedding(tokenizer.get_vocab_size(), embedding_dim))\n",
    "model.add(LSTM(hidden_units))\n",
    "model.add(Dense(1, activation='sigmoid'))\n",
    "model.compile(optimizer='rmsprop', loss='binary_crossentropy', metrics=['acc'])\n",
    "\n",
    "es = EarlyStopping(monitor='val_loss', mode='min', verbose=1, patience=3)\n",
    "mc = ModelCheckpoint('rnn-spm.keras', monitor = 'val_acc', mode='max', verbose=1, save_best_only=True)\n",
    "\n",
    "history = model.fit(X_train, Y_train, epochs=10, batch_size=64, validation_split=0.2, callbacks=[es, mc])\n"
   ]
  },
  {
   "cell_type": "code",
   "execution_count": null,
   "metadata": {},
   "outputs": [],
   "source": []
  }
 ],
 "metadata": {
  "kernelspec": {
   "display_name": ".venv",
   "language": "python",
   "name": "python3"
  },
  "language_info": {
   "codemirror_mode": {
    "name": "ipython",
    "version": 3
   },
   "file_extension": ".py",
   "mimetype": "text/x-python",
   "name": "python",
   "nbconvert_exporter": "python",
   "pygments_lexer": "ipython3",
   "version": "3.10.12"
  }
 },
 "nbformat": 4,
 "nbformat_minor": 2
}
